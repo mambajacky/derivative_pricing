{
 "cells": [
  {
   "cell_type": "markdown",
   "metadata": {},
   "source": [
    "# Homework II\n",
    "\n",
    "### Due Date: 11:55 PM Thursday, March 1, 2018\n",
    "\n",
    "You should turn in the notebook at Columbia CourseWorks website.\n",
    "\n",
    "Before you turn in the notebook, press the \"Run all cells\" button in the toolbar, and make sure all the calculation results and graphs are produced correctly, and then save the notebook."
   ]
  },
  {
   "cell_type": "code",
   "execution_count": 1,
   "metadata": {
    "collapsed": true
   },
   "outputs": [],
   "source": [
    "%matplotlib inline\n",
    "import matplotlib.pyplot as plt\n",
    "import numpy as np\n",
    "from scipy.stats import norm"
   ]
  },
  {
   "cell_type": "markdown",
   "metadata": {},
   "source": [
    "# Dual Problem and Upper Bounds for American Options"
   ]
  },
  {
   "cell_type": "markdown",
   "metadata": {},
   "source": [
    "<strong>Primal Problem</strong> (maximizing over stopping times)\n",
    "\n",
    "\\begin{equation*}\n",
    "V_t=\\sup_{\\tau\\in\\mathcal{T}_{t, T}}E^Q\\left[D_{t, \\tau}F_{\\tau}\\big|\\mathcal{F}_t\\right]\n",
    "\\end{equation*}\n",
    "\n",
    "<strong>Dual Problem</strong> (minimizing over martingales) [Rogers 2002; Haugh and Kogan 2004]\n",
    "\n",
    "\\begin{equation*}\n",
    "V_t=\\inf_{M\\in\\mathcal{M}_{t, 0}}E^Q\\left[\\sup_{t\\leq s\\leq T}\\left(D_{t, s}F_s-M_s\\right)\\bigg|\\mathcal{F}_t\\right].\n",
    "\\end{equation*}\n",
    "\n",
    "where $\\mathcal{M}_{t, 0}$ denotes the set of all right-continuous martingales $(M_s, s\\in[t, T])$ with $M_t=0$.\n",
    "The optimal martingale $M^{\\ast}$ is the martingale part of the Doob-Meyer decomposition of $(S_s-S_t)/D_{0, t}$, $t\\leq s\\leq T$.\n",
    "\n",
    "In particular, any martingale $M_s$ with $M_0=0$ gives an upper bound for the price at time 0, $V_0$:\n",
    "\n",
    "$$V_0 \\leq\\mathbb{E}^{\\mathbb{Q}}\\left[\\sup_{0\\leq s\\leq T}\\left(D_sF_s-M_s\\right)\\right].$$"
   ]
  },
  {
   "cell_type": "markdown",
   "metadata": {},
   "source": [
    "<b style=\"color:darkorange\">Question 1.</b> Consider pricing a one-year Bermudan put option with monthly exercise, where the asset price process is assumed to follow geometric Brownian motion with $S_0=100$, $\\sigma=0.2$, $r=0.1$, $q=0.02$, $K=100$ and exercise dates $t_1=\\frac{1}{12}$, $t_2=\\frac{2}{12}$, $\\cdots$, $t_{12}=1$.\n",
    "\n",
    "Simulate 100,000 paths and use the following martingale to find a upper bound.\n",
    "\n",
    "(a). $M_t\\equiv0$.\n",
    "\n",
    "(b). $M_t$ is the discounted European put price with the same final maturity less the initial price.\n",
    "\n",
    "For your reference, the price of the option is $5.155$."
   ]
  },
  {
   "cell_type": "code",
   "execution_count": 2,
   "metadata": {
    "collapsed": true
   },
   "outputs": [],
   "source": [
    "def blackscholes_mc(S=100, vol=0.2, r=0, q=0, ts=np.linspace(0, 1, 13), npaths=10):\n",
    "    \"\"\"Generate Monte-Carlo paths in Black-Scholes model.\n",
    "\n",
    "    Parameters\n",
    "    ----------\n",
    "    S: scalar\n",
    "        The spot price of the underlying security.\n",
    "    vol: scalar\n",
    "        The implied Black-Scholes volatility.\n",
    "    r: scalar\n",
    "        The annualized risk-free interest rate, continuously compounded.\n",
    "    q: scalar\n",
    "        The annualized continuous dividend yield.\n",
    "    ts: array_like\n",
    "        The time steps of the simualtion\n",
    "    npaths: int\n",
    "        the number of paths to simulate\n",
    "\n",
    "    Returns\n",
    "    -------\n",
    "    paths: ndarray\n",
    "        The Monte-Carlo paths.\n",
    "    \"\"\"\n",
    "    nsteps = len(ts) - 1\n",
    "    ts = np.asfarray(ts)[:, np.newaxis]\n",
    "    W = np.cumsum(np.vstack((np.zeros((1, npaths), dtype=np.float),\n",
    "                             np.random.randn(nsteps, npaths) * np.sqrt(np.diff(ts, axis=0)))),\n",
    "                  axis=0)\n",
    "    paths = np.exp(-0.5*vol**2*ts + vol*W)*S*np.exp((r-q)*ts)\n",
    "    return paths\n",
    "\n",
    "\n",
    "def blackscholes_price(K, T, S, vol, r=0, q=0, callput='call'):\n",
    "    \"\"\"Compute the call/put option price in the Black-Scholes model\n",
    "    \n",
    "    Parameters\n",
    "    ----------\n",
    "    K: scalar or array_like\n",
    "        The strike of the option.\n",
    "    T: scalar or array_like\n",
    "        The maturity of the option, expressed in years (e.g. 0.25 for 3-month and 2 for 2 years)\n",
    "    S: scalar or array_like\n",
    "        The current price of the underlying asset.\n",
    "    vol: scalar or array_like\n",
    "        The implied Black-Scholes volatility.\n",
    "    r: scalar or array_like\n",
    "        The annualized risk-free interest rate, continuously compounded.\n",
    "    q: scalar or array_like\n",
    "        The annualized continuous dividend yield.\n",
    "    callput: str\n",
    "        Must be either 'call' or 'put'.\n",
    "\n",
    "    Returns\n",
    "    -------\n",
    "    price: scalar or array_like\n",
    "        The price of the option.\n",
    "\n",
    "    Examples\n",
    "    --------\n",
    "    >>> blackscholes_price(95, 0.25, 100, 0.2, r=0.05, callput='put')\n",
    "    1.5342604771222823\n",
    "    \"\"\"\n",
    "    if T==0:\n",
    "        return np.maximum(K-S, 0)\n",
    "    else:\n",
    "        F = S*np.exp((r-q)*T)\n",
    "        v = np.sqrt(vol**2*T)\n",
    "        d1 = np.log(F/K)/v + 0.5*v\n",
    "        d2 = d1 - v\n",
    "        try:\n",
    "            opttype = {'call':1, 'put':-1}[callput.lower()]\n",
    "        except:\n",
    "            raise ValueError('The value of callput must be either \"call\" or \"put\".')\n",
    "        price = opttype*(F*norm.cdf(opttype*d1)-K*norm.cdf(opttype*d2))*np.exp(-r*T)\n",
    "        return price"
   ]
  },
  {
   "cell_type": "markdown",
   "metadata": {},
   "source": [
    "<b>Question 1 Result</b>"
   ]
  },
  {
   "cell_type": "code",
   "execution_count": 3,
   "metadata": {},
   "outputs": [
    {
     "data": {
      "text/plain": [
       "{'BS Price Hedge': 5.354062848847926, 'No Hedge': 8.6229022590723421}"
      ]
     },
     "execution_count": 3,
     "metadata": {},
     "output_type": "execute_result"
    }
   ],
   "source": [
    "S = 100\n",
    "K = 100\n",
    "vol = 0.2\n",
    "r = 0.1\n",
    "q = 0.02\n",
    "ts = np.linspace(0, 1, 13)\n",
    "npaths = 100000\n",
    "paths = blackscholes_mc(S, vol, r, q, ts, npaths)\n",
    "payoff1 = np.zeros((len(ts)-1,npaths), dtype=np.float)\n",
    "payoff2 = np.zeros((len(ts)-1,npaths), dtype=np.float)\n",
    "p0 = blackscholes_price(K, ts[-1], S, vol, r, q, callput='put')\n",
    "for i in range(1, len(ts)):\n",
    "    exval = np.maximum(K-paths[i], 0)\n",
    "    bsprice = blackscholes_price(K, ts[-1]-ts[i], paths[i], vol, r, q, callput='put')\n",
    "    payoff1[i-1] = exval*np.exp(-r*ts[i])\n",
    "    payoff2[i-1] = (exval - bsprice)*np.exp(-r*ts[i]) + p0\n",
    "    \n",
    "V0 = {'No Hedge': np.mean(np.max(payoff1, 0)), 'BS Price Hedge': np.mean(np.max(payoff2, 0))}\n",
    "V0"
   ]
  },
  {
   "cell_type": "markdown",
   "metadata": {},
   "source": [
    "<b>Question 1 Comment</b>\n",
    "<ul>\n",
    "<li>With hedging, the upper bound for the option price is effectively reduced.\n",
    "</ul>"
   ]
  },
  {
   "cell_type": "markdown",
   "metadata": {},
   "source": [
    "## Optimal martingale\n",
    "\n",
    "The optimal martingale that gives zero <em>duality gap</em> is the martingale component of the discounted value process (known as Snell envelope) $\\frac{V_t}{D_{0,t}}$, following the optimal exercise strategy.\n",
    "\n",
    "To get a good upper bound, we first find a value process that is close to the true value process, and then extract its martingale component. This approximation value process can be obtained from a functional approximation such as regression, or from an exercise strategy (stopping time).\n",
    "\n",
    "In general, for a stochastic process $\\{U_n\\}_{n\\geq0}$, to extract its martingale component, we only need to let $M_0=0$, and then\n",
    "\n",
    "$$M_{n+1}-M_n=U_{n+1}-E\\left[U_{n+1}\\big|\\mathcal{F}_n\\right],\\quad n=0,1,\\cdots.$$"
   ]
  },
  {
   "cell_type": "markdown",
   "metadata": {},
   "source": [
    "As a demonstration, we show below the code that calculates the upper bound estimate of the price of Bermudan put with monthly exercises as in Question 1.1. The optimal exercise frontier is given for each exercise date (from a PDE solver), i.e. if the underlying price falls below Bs[i] at time ts[i], then we should exercise the option, otherwise we should continue."
   ]
  },
  {
   "cell_type": "code",
   "execution_count": 4,
   "metadata": {
    "collapsed": true
   },
   "outputs": [],
   "source": [
    "Bs = np.array([87.527, 87.778, 88.056, 88.369, 88.724, 89.131, 89.605, 90.170, 90.862, 91.745, 92.952, 94.849, 100])\n",
    "\n",
    "def exer_or_cont(i, S):\n",
    "    return S <= Bs[i]"
   ]
  },
  {
   "cell_type": "markdown",
   "metadata": {},
   "source": [
    "<b>Lower Bound.</b>\n",
    "Simulate independent paths and exercise the option acoording to this strategy"
   ]
  },
  {
   "cell_type": "code",
   "execution_count": 5,
   "metadata": {},
   "outputs": [
    {
     "data": {
      "text/plain": [
       "5.1450781902635159"
      ]
     },
     "execution_count": 5,
     "metadata": {},
     "output_type": "execute_result"
    }
   ],
   "source": [
    "S0, K, vol, r, q = 100, 100, 0.2, 0.1, 0.02\n",
    "ts = np.linspace(0, 1, 13)\n",
    "\n",
    "npaths = 1000000\n",
    "paths = blackscholes_mc(S=S0, vol=vol, r=r, q=q, ts=ts, npaths=npaths)\n",
    "alive = np.full(npaths, True, dtype=bool)\n",
    "payoff = np.zeros(npaths, dtype=np.float)\n",
    "for i in range(1, len(ts)):\n",
    "    exerval = np.maximum(K-paths[i], 0)\n",
    "    ind = exer_or_cont(i, paths[i]) & alive\n",
    "    payoff[ind] = exerval[ind]*np.exp(-r*ts[i])\n",
    "    alive[ind] = False\n",
    "V0 = np.mean(payoff)\n",
    "V0"
   ]
  },
  {
   "cell_type": "markdown",
   "metadata": {},
   "source": [
    "<b>Upper Bound.</b> We use nested simulation to estimate $V_n$ and $E\\left[V_{n+1}\\big|\\mathcal{F}_n\\right]$, where $V_n$ is the discounted value at time $t_n$."
   ]
  },
  {
   "cell_type": "code",
   "execution_count": 6,
   "metadata": {},
   "outputs": [
    {
     "data": {
      "text/plain": [
       "5.1599555685621326"
      ]
     },
     "execution_count": 6,
     "metadata": {},
     "output_type": "execute_result"
    }
   ],
   "source": [
    "S0, K, vol, r, q = 100, 100, 0.2, 0.1, 0.02\n",
    "ts = np.linspace(0, 1, 13)\n",
    "\n",
    "# nested simulation from time t_i when stock price is S\n",
    "def nested_mc(i, S, nsims=1000):\n",
    "    alive = np.arange(nsims)                                   # keep track of indices of paths still alive\n",
    "    payoff = np.zeros(nsims, dtype=np.float)\n",
    "    paths = np.full(nsims, S, dtype=np.float)\n",
    "    for j in range(i+1, len(ts)):\n",
    "        if len(alive) == 0:                                    # if exercised for all paths, stop\n",
    "            break\n",
    "        dt = ts[j]-ts[j-1]\n",
    "        dW = np.random.randn(len(alive))*np.sqrt(dt)           # Brownian increment\n",
    "        paths[alive] = paths[alive] * np.exp(-0.5*vol**2*dt+vol*dW)*np.exp((r-q)*dt)  # simulate S_{j+1} from S_j\n",
    "        ind = exer_or_cont(j, paths[alive])                    # identify the paths that need exercise\n",
    "        payoff[alive[ind]] = np.maximum(K-paths[alive[ind]], 0)*np.exp(-r*ts[j])      # update payoffs for exercised paths\n",
    "        alive = alive[~ind]                                    # remove exercised paths \n",
    "    return np.mean(payoff)                                     # taking average of paths\n",
    "\n",
    "# Upper bound\n",
    "npaths = 1000                                                  # number of paths in the second independent run\n",
    "nsims = 500                                                    # number of paths used in nested simulation\n",
    "paths = blackscholes_mc(S=S0, vol=vol, r=r, q=q, ts=ts, npaths=npaths)\n",
    "pathsV = np.empty(paths.shape, dtype=np.float)                 # discounted value process V_i (discounted to time zero)\n",
    "pathsV[0] = V0                                                 # Initial value from lower bound simulation\n",
    "pathsV[-1] = np.maximum(K-paths[-1], 0)*np.exp(-r*ts[-1])      # values at final maturity\n",
    "pathsEV = np.empty(paths.shape, dtype=np.float)                # Conditional expectation E[V_{i+1}|F_i], or continuation value\n",
    "pathsEV[0] = pathsV[0]                                         # at time 0, option value = continuation value\n",
    "for i in range(1, len(ts)-1):\n",
    "    for j in range(npaths):\n",
    "        S = paths[i, j]                                        # stock price at time t_i and j-th path\n",
    "        if exer_or_cont(i, S):\n",
    "            pathsV[i, j] = np.maximum(K-S, 0)*np.exp(-r*ts[i]) # if exercised, V_i = exercise value\n",
    "            pathsEV[i, j] = nested_mc(i, S, nsims=nsims)       # launch nested simulation to estimate E[V_{i+1}|F_i]\n",
    "        else:\n",
    "            pathsV[i, j] = nested_mc(i, S, nsims=nsims)        # if continue, use nested simulation to estimate V_i\n",
    "            pathsEV[i, j] = pathsV[i, j]                       # E[V_{i+1}|F_i] = V_i\n",
    "M = np.zeros_like(paths)\n",
    "M[1:] = np.cumsum(pathsV[1:]-pathsEV[:-1], axis=0)             # martinglae increment V_{i+1}-E[V_{i+1}|F_i]\n",
    "# taking average of max value of D_sF_s-M_s along each path\n",
    "np.mean((np.maximum(K-paths, 0)*np.exp(-r*ts[:, np.newaxis])-M).max(axis=0))"
   ]
  },
  {
   "cell_type": "markdown",
   "metadata": {},
   "source": [
    "Since the strategy is optimal, we see that both lower bound and upper bound prices converge to the true value. \n",
    "\n",
    "However, in general, we may only get a sub-optimal strategy (e.g. from Longstaff-Schwartz algorithm). But with this sub-optimal strategy, we can build the (discounted) value process and then extract its martingale component to obtain an upper bound. Intuitively speaking, the closer this sub-optimal strategy is to the optimal one, the tighter the corresponding upper bound."
   ]
  },
  {
   "cell_type": "markdown",
   "metadata": {},
   "source": [
    "<b style=\"color:darkorange\">Question 2.</b> Consider pricing the Bermudan put option as in Question 1.1 by using the constant $1.0$ and the Black-Scholes price of a European put option with volatility $0.2$ and maturity $T-t_n$ as the two basis functions at time $t_n$. Use the Longstaff-Schwartz algorithm to build an exercise strategy with these basis functions and then compute the corresponding upper bound.\n",
    "\n",
    "For your convenience, an implementation of Longstaff-Schwartz algorithm is included in the cell below. It computes the regression coefficients at each exercise date."
   ]
  },
  {
   "cell_type": "code",
   "execution_count": 7,
   "metadata": {},
   "outputs": [
    {
     "data": {
      "text/plain": [
       "array([[        nan,         nan],\n",
       "       [-0.44553251,  1.28378532],\n",
       "       [-0.40848886,  1.27628617],\n",
       "       [-0.31953967,  1.24413462],\n",
       "       [-0.206712  ,  1.20454894],\n",
       "       [-0.20523879,  1.1934065 ],\n",
       "       [-0.14715557,  1.16515974],\n",
       "       [-0.11897509,  1.13015644],\n",
       "       [-0.03035003,  1.08788336],\n",
       "       [-0.03837493,  1.07497193],\n",
       "       [-0.03600466,  1.04018726],\n",
       "       [-0.01492042,  1.0027343 ],\n",
       "       [        nan,         nan]])"
      ]
     },
     "execution_count": 7,
     "metadata": {},
     "output_type": "execute_result"
    }
   ],
   "source": [
    "S0, K, vol, r, q = 100, 100, 0.2, 0.1, 0.02\n",
    "ts = np.linspace(0, 1, 13)\n",
    "\n",
    "npaths = 10000\n",
    "paths = blackscholes_mc(S=S0, vol=vol, r=r, q=q, ts=ts, npaths=npaths)\n",
    "betas_LS = np.full((len(ts), 2), np.nan, dtype=np.float)\n",
    "payoff = np.maximum(K-paths[-1], 0)\n",
    "for i in range(len(ts)-2, 0, -1):\n",
    "    discount = np.exp(-r*(ts[i+1]-ts[i]))\n",
    "    payoff = payoff*discount\n",
    "    Z = blackscholes_price(K, ts[-1]-ts[i], paths[i], vol, r, q, callput='put')\n",
    "    A = np.vstack((np.ones_like(Z), Z)).T\n",
    "    betas_LS[i] = np.linalg.lstsq(A, payoff)[0]    # regression to estimate continuation values\n",
    "    contval = betas_LS[i, 0]+betas_LS[i, 1]*Z\n",
    "    exerval = np.maximum(K-paths[i], 0)\n",
    "    # identify the paths where we should exercise\n",
    "    ind = exerval > contval\n",
    "    payoff[ind] = exerval[ind]                     # update payoff on exercised paths\n",
    "betas_LS                                           # No regression needed at first and last time steps, return NaN"
   ]
  },
  {
   "cell_type": "markdown",
   "metadata": {},
   "source": [
    "<b>Question 2 Result</b>"
   ]
  },
  {
   "cell_type": "code",
   "execution_count": 8,
   "metadata": {},
   "outputs": [
    {
     "data": {
      "text/plain": [
       "5.1760693355556411"
      ]
     },
     "execution_count": 8,
     "metadata": {},
     "output_type": "execute_result"
    }
   ],
   "source": [
    "# Longstaff_Schwartz optimal exercise strategy\n",
    "def new_exer_or_cont(i, S):\n",
    "    if i >= len(ts)-1:\n",
    "        return K>S  #at maturity, exercise only if strike is larger than stock price\n",
    "    else:\n",
    "        Z = blackscholes_price(K, ts[-1]-ts[i], S, vol, r, q, callput='put')\n",
    "        contval = betas_LS[i, 0]+betas_LS[i, 1]*Z\n",
    "        exerval = np.maximum(K-S, 0)\n",
    "        return exerval>contval  # exercise only if exercise value is larger than continuation value\n",
    "    \n",
    "# nested simulation from time t_i when stock price is S\n",
    "def new_nested_mc(i, S, nsims=1000):\n",
    "    alive = np.arange(nsims)                                   # keep track of indices of paths still alive\n",
    "    payoff = np.zeros(nsims, dtype=np.float)\n",
    "    paths = np.full(nsims, S, dtype=np.float)\n",
    "    for j in range(i+1, len(ts)):\n",
    "        if len(alive) == 0:                                    # if exercised for all paths, stop\n",
    "            break\n",
    "        dt = ts[j]-ts[j-1]\n",
    "        dW = np.random.randn(len(alive))*np.sqrt(dt)           # Brownian increment\n",
    "        paths[alive] = paths[alive] * np.exp(-0.5*vol**2*dt+vol*dW)*np.exp((r-q)*dt)  # simulate S_{j+1} from S_j\n",
    "        ind = new_exer_or_cont(j, paths[alive])                    # identify the paths that need exercise\n",
    "        payoff[alive[ind]] = np.maximum(K-paths[alive[ind]], 0)*np.exp(-r*ts[j])      # update payoffs for exercised paths\n",
    "        alive = alive[~ind]                                    # remove exercised paths \n",
    "    return np.mean(payoff)                                     # taking average of paths\n",
    "\n",
    "\n",
    "\n",
    "# Upper bound\n",
    "npaths = 1000                                                  # number of paths in the second independent run\n",
    "nsims = 500                                                    # number of paths used in nested simulation\n",
    "paths = blackscholes_mc(S=S0, vol=vol, r=r, q=q, ts=ts, npaths=npaths)\n",
    "pathsV = np.empty(paths.shape, dtype=np.float)                 # discounted value process V_i (discounted to time zero)\n",
    "pathsV[0] = V0                                                 # Initial value from lower bound simulation\n",
    "pathsV[-1] = np.maximum(K-paths[-1], 0)*np.exp(-r*ts[-1])      # values at final maturity\n",
    "pathsEV = np.empty(paths.shape, dtype=np.float)                # Conditional expectation E[V_{i+1}|F_i], or continuation value\n",
    "pathsEV[0] = pathsV[0]                                         # at time 0, option value = continuation value\n",
    "for i in range(1, len(ts)-1):\n",
    "    for j in range(npaths):\n",
    "        S = paths[i, j]                                        # stock price at time t_i and j-th path\n",
    "        if new_exer_or_cont(i, S):\n",
    "            pathsV[i, j] = np.maximum(K-S, 0)*np.exp(-r*ts[i]) # if exercised, V_i = exercise value\n",
    "            pathsEV[i, j] = new_nested_mc(i, S, nsims=nsims)       # launch nested simulation to estimate E[V_{i+1}|F_i]\n",
    "        else:\n",
    "            pathsV[i, j] = new_nested_mc(i, S, nsims=nsims)        # if continue, use nested simulation to estimate V_i\n",
    "            pathsEV[i, j] = pathsV[i, j]                       # E[V_{i+1}|F_i] = V_i\n",
    "M = np.zeros_like(paths)\n",
    "M[1:] = np.cumsum(pathsV[1:]-pathsEV[:-1], axis=0)             # martinglae increment V_{i+1}-E[V_{i+1}|F_i]\n",
    "# taking average of max value of D_sF_s-M_s along each path\n",
    "np.mean((np.maximum(K-paths, 0)*np.exp(-r*ts[:, np.newaxis])-M).max(axis=0))"
   ]
  },
  {
   "cell_type": "markdown",
   "metadata": {},
   "source": [
    "<b>Question 2 Comment</b>\n",
    "<ul>\n",
    "<li>Using Longstaff-Schwartz optimal exercise strategy, the upper bound is very close to the upper bound using optimal exercise frontier. \n",
    "</ul>"
   ]
  },
  {
   "cell_type": "markdown",
   "metadata": {},
   "source": [
    "<b style=\"color:darkorange\">Question 3.</b> <b>(An alternative algorithm to estimate the upper bound)</b> The primal algorithm (Longstaff-Schwartz or Tsitsiklis-Van Roy) provides a function approximation (via regression) of the continuation value $C_n$ at $t_n$, hence of the value function $V_n = \\max(C_n,F_n)$ where $F_n$ is the exercise value. We can use this functional approximation of the value function to write an alternative algorithm in order to estimate the upper bound: at each time $t_n$, use the functional approximation of $V_n$, and run the nested simulation to estimate the conditional expectation $E\\left[V_{n+1}\\big|\\mathcal{F}_n\\right]$ (using the functional approximation of $V_{n+1}$). Note that this nested simulation only needs to be run for one time step.\n",
    "\n",
    "For the same Bermudan put option and same basis functions, use TVR algorithm to build the value process and then extract its martingale component using the alternative algorithm explained above to estimate the upper bound price.\n",
    "\n",
    "For your convenience, an implementation of TVR algorithm is included in the cell below. It computes the regression coefficients at each exercise date. "
   ]
  },
  {
   "cell_type": "code",
   "execution_count": 9,
   "metadata": {},
   "outputs": [
    {
     "data": {
      "text/plain": [
       "array([[        nan,         nan],\n",
       "       [-0.43111833,  1.30841043],\n",
       "       [-0.38471921,  1.29163439],\n",
       "       [-0.28696651,  1.2624234 ],\n",
       "       [-0.19511503,  1.22860281],\n",
       "       [-0.1176159 ,  1.1959613 ],\n",
       "       [-0.06147771,  1.16268112],\n",
       "       [-0.02976586,  1.13067906],\n",
       "       [-0.00260358,  1.09804626],\n",
       "       [ 0.01512692,  1.06593805],\n",
       "       [ 0.008383  ,  1.03054199],\n",
       "       [-0.00613147,  1.00059086],\n",
       "       [        nan,         nan]])"
      ]
     },
     "execution_count": 9,
     "metadata": {},
     "output_type": "execute_result"
    }
   ],
   "source": [
    "S0, K, vol, r, q = 100, 100, 0.2, 0.1, 0.02\n",
    "ts = np.linspace(0, 1, 13)\n",
    "\n",
    "npaths = 100000\n",
    "paths = blackscholes_mc(S=S0, vol=vol, r=r, q=q, ts=ts, npaths=npaths)\n",
    "betas_TVR = np.full((len(ts), 2), np.nan, dtype=np.float)\n",
    "V = np.maximum(K-paths[-1], 0)\n",
    "for i in range(len(ts)-2, 0, -1):\n",
    "    discount = np.exp(-r*(ts[i+1]-ts[i]))\n",
    "    Z = blackscholes_price(K, ts[-1]-ts[i], paths[i], vol, r, q, callput='put')\n",
    "    A = np.vstack((np.ones_like(Z), Z)).T\n",
    "    betas_TVR[i] = np.linalg.lstsq(A, V*discount)[0]      # regression to estimate continuation values\n",
    "    contval = betas_TVR[i, 0]+betas_TVR[i, 1]*Z\n",
    "    exerval = np.maximum(K-paths[i], 0)\n",
    "    V = np.maximum(exerval, contval)                      # compute values\n",
    "betas_TVR                                                 # No regression needed at first and last time steps, return NaN"
   ]
  },
  {
   "cell_type": "markdown",
   "metadata": {},
   "source": [
    "<b>Question 3 Result</b>"
   ]
  },
  {
   "cell_type": "code",
   "execution_count": 10,
   "metadata": {},
   "outputs": [
    {
     "data": {
      "text/plain": [
       "5.0576091448150873"
      ]
     },
     "execution_count": 10,
     "metadata": {},
     "output_type": "execute_result"
    }
   ],
   "source": [
    "S0, K, vol, r, q = 100, 100, 0.2, 0.1, 0.02\n",
    "ts = np.linspace(0, 1, 13)\n",
    "\n",
    "# Functional approximation via TVR algorithm\n",
    "def func_approximation_TVR(i, S):\n",
    "    if i >= len(ts)-1:\n",
    "        return np.maximum(K-S,0)*np.exp(-r*ts[i])\n",
    "    else:\n",
    "        Z = blackscholes_price(K, ts[-1]-ts[i], S, vol, r, q, callput='put')\n",
    "        contval = betas_TVR[i, 0]+betas_TVR[i, 1]*Z\n",
    "        exerval = np.maximum(K-S, 0)\n",
    "        V = np.maximum(contval, exerval)\n",
    "        return V*np.exp(-r*ts[i])  # functional approximation of V_i\n",
    "    \n",
    "# nested simulation for one time step from time t_i when stock price is S\n",
    "def nested_mc_TVR(i, S, nsims):\n",
    "    payoff = np.zeros(nsims, dtype=np.float)\n",
    "    dt = ts[i+1]-ts[i]\n",
    "    dW = np.random.randn(nsims)*np.sqrt(dt)           # Brownian increment\n",
    "    paths = S * np.exp(-0.5*vol**2*dt+vol*dW)*np.exp((r-q)*dt)  # simulate S_{i+1} from S_i\n",
    "    payoff = func_approximation_TVR(i+1, paths)                                     \n",
    "    return np.mean(payoff)                                     # taking average of paths\n",
    "\n",
    "\n",
    "# Upper bound\n",
    "npaths = 1000                                                  # number of paths in the second independent run\n",
    "nsims = 500                                                    # number of paths used in nested simulation\n",
    "paths = blackscholes_mc(S=S0, vol=vol, r=r, q=q, ts=ts, npaths=npaths)\n",
    "pathsV = np.empty(paths.shape, dtype=np.float)                 # discounted value process V_i (discounted to time zero)\n",
    "pathsV[0] = V0                                                 # Initial value from lower bound simulation\n",
    "pathsV[-1] = np.maximum(K-paths[-1], 0)*np.exp(-r*ts[-1])      # values at final maturity\n",
    "pathsEV = np.empty(paths.shape, dtype=np.float)                # Conditional expectation E[V_{i+1}|F_i], or continuation value\n",
    "pathsEV[0] = pathsV[0]                                         # at time 0, option value = continuation value\n",
    "for i in range(1, len(ts)-1):\n",
    "    for j in range(npaths):\n",
    "        S = paths[i, j]                                        # stock price at time t_i and j-th path\n",
    "        pathsV[i, j] = func_approximation_TVR(i, S)            # use functional approximation to estimate V_i\n",
    "        pathsEV[i, j] = nested_mc_TVR(i, S, nsims)             # use nested simulation to estimate E[V_{i+1}|F_i]\n",
    "M = np.zeros_like(paths)\n",
    "M[1:] = np.cumsum(pathsV[1:]-pathsEV[:-1], axis=0)             # martinglae increment V_{i+1}-E[V_{i+1}|F_i]\n",
    "# taking average of max value of D_sF_s-M_s along each path\n",
    "np.mean((np.maximum(K-paths, 0)*np.exp(-r*ts[:, np.newaxis])-M).max(axis=0))"
   ]
  },
  {
   "cell_type": "code",
   "execution_count": 11,
   "metadata": {},
   "outputs": [
    {
     "data": {
      "text/plain": [
       "5.1989590787059932"
      ]
     },
     "execution_count": 11,
     "metadata": {},
     "output_type": "execute_result"
    }
   ],
   "source": [
    "S0, K, vol, r, q = 100, 100, 0.2, 0.1, 0.02\n",
    "ts = np.linspace(0, 1, 13)\n",
    "\n",
    "# Functional approximation via LS algorithm\n",
    "def func_approximation_LS(i, S):\n",
    "    if i >= len(ts)-1:\n",
    "        return np.maximum(K-S,0)*np.exp(-r*ts[i])\n",
    "    else:\n",
    "        Z = blackscholes_price(K, ts[-1]-ts[i], S, vol, r, q, callput='put')\n",
    "        contval = betas_LS[i, 0]+betas_LS[i, 1]*Z\n",
    "        exerval = np.maximum(K-S, 0)\n",
    "        V = np.maximum(contval, exerval)\n",
    "        return V*np.exp(-r*ts[i])  # functional approximation of V_i\n",
    "\n",
    "        \n",
    "# nested simulation for one time step from time t_i when stock price is S\n",
    "def nested_mc_LS(i, S, nsims):\n",
    "    payoff = np.zeros(nsims, dtype=np.float)\n",
    "    dt = ts[i+1]-ts[i]\n",
    "    dW = np.random.randn(nsims)*np.sqrt(dt)           # Brownian increment\n",
    "    paths = S * np.exp(-0.5*vol**2*dt+vol*dW)*np.exp((r-q)*dt)  # simulate S_{i+1} from S_i\n",
    "    payoff = func_approximation_LS(i+1, paths)                                     \n",
    "    return np.mean(payoff)                                     # taking average of paths\n",
    "\n",
    "\n",
    "# Upper bound\n",
    "npaths = 1000                                                  # number of paths in the second independent run\n",
    "nsims = 500                                                    # number of paths used in nested simulation\n",
    "paths = blackscholes_mc(S=S0, vol=vol, r=r, q=q, ts=ts, npaths=npaths)\n",
    "pathsV = np.empty(paths.shape, dtype=np.float)                 # discounted value process V_i (discounted to time zero)\n",
    "pathsV[0] = V0                                                 # Initial value from lower bound simulation\n",
    "pathsV[-1] = np.maximum(K-paths[-1], 0)*np.exp(-r*ts[-1])      # values at final maturity\n",
    "pathsEV = np.empty(paths.shape, dtype=np.float)                # Conditional expectation E[V_{i+1}|F_i], or continuation value\n",
    "pathsEV[0] = pathsV[0]                                         # at time 0, option value = continuation value\n",
    "for i in range(1, len(ts)-1):\n",
    "    for j in range(npaths):\n",
    "        S = paths[i, j]                                        # stock price at time t_i and j-th path\n",
    "        pathsV[i, j] = func_approximation_LS(i, S)            # use functional approximation to estimate V_i\n",
    "        pathsEV[i, j] = nested_mc_LS(i, S, nsims)             # use nested simulation to estimate E[V_{i+1}|F_i]\n",
    "M = np.zeros_like(paths)\n",
    "M[1:] = np.cumsum(pathsV[1:]-pathsEV[:-1], axis=0)             # martinglae increment V_{i+1}-E[V_{i+1}|F_i]\n",
    "# taking average of max value of D_sF_s-M_s along each path\n",
    "np.mean((np.maximum(K-paths, 0)*np.exp(-r*ts[:, np.newaxis])-M).max(axis=0))"
   ]
  },
  {
   "cell_type": "markdown",
   "metadata": {},
   "source": [
    "<b>Question 3 Comment</b>\n",
    "<ul> \n",
    "<li> I obtain the optimal martingale from functional approximation through TVR algorithm and LS algorithm respectively. The functional approximation strategy via LS algorithm obtains an actual upper bound, though it doesn't do a better job than LS optimal exercise strategy. However, the functional approximation strategy via TVR algorithm gets a upper bound even smaller than the lower bound, partly because of the bias propagated through TVR algorithm \n",
    "</ul>"
   ]
  },
  {
   "cell_type": "markdown",
   "metadata": {},
   "source": [
    "The upper bound estimator can be used to check if the basis functions used in regression are adequate. A tight duality gap between the lower bound and upper bound is a confirmation that the linear span of the selected basis functions indeed gives a good approximation to the continuation value."
   ]
  },
  {
   "cell_type": "markdown",
   "metadata": {},
   "source": [
    "The upper bound estimator can be used to check if the basis functions used in regression are adequate. A tight duality gap between the lower bound and upper bound is a confirmation that the linear span of the selected basis functions indeed gives a good approximation to the continuation value. We now illustrate this with the pricing of Bermudan-Asian call options.\n",
    "\n",
    "<b style=\"color:darkorange\">Question 4</b> (<b>Bermudan-Asian Call Option</b>). In Question 2.5 of Homework I, we priced a Bermudan-Asian call option using a particular set of basis functions. Assume that all the parameters stay the same.\n",
    "\n",
    "<b>(a).</b> Reuse the exercise strategy derived from the basis functions used in Question 2.5 of Homework I by Longstaff-Schwartz with $\\bar{\\sigma}=0.1$ to estimate the lower and upper bound. For your convenience, an implementation of Longstaff-Schwartz is included in the cell below. Note that the lower bound should be obtained by running new independent paths stopped according to the strategy from the Longstaff-Schwartz algorithm.\n",
    "\n",
    "<b>(b).</b> As an alternative set of basis functions at time $t_n$, use \n",
    "$$1, A_{t_n}, S_{t_n}, A_{t_n}^2, S_{t_n}^2, A_{t_n}S_{t_n}.$$\n",
    "in the Longstaff-Schwartz algorithm and then give the corresponding lower bound and upper bound.\n",
    "\n",
    "<b>(c).</b> Compare the duality gaps obtained from (a) and (b). Which set of basis functions does a better job at estimating the optimal exercise strategy?"
   ]
  },
  {
   "cell_type": "code",
   "execution_count": 12,
   "metadata": {},
   "outputs": [
    {
     "data": {
      "text/plain": [
       "array([[        nan,         nan],\n",
       "       [ 0.27750785,  1.13478754],\n",
       "       [-0.02082635,  1.11508281],\n",
       "       [-0.19544691,  1.09281987],\n",
       "       [-0.30036117,  1.07561721],\n",
       "       [-0.34313518,  1.05727099],\n",
       "       [-0.38581098,  1.04969409],\n",
       "       [-0.38836473,  1.0403536 ],\n",
       "       [-0.36448903,  1.03234875],\n",
       "       [-0.31503647,  1.02436912],\n",
       "       [-0.25806363,  1.01769945],\n",
       "       [-0.17153641,  1.00835075],\n",
       "       [        nan,         nan]])"
      ]
     },
     "execution_count": 12,
     "metadata": {},
     "output_type": "execute_result"
    }
   ],
   "source": [
    "# Longstaff-Schwartz\n",
    "S0, K, vol, r, q = 100, 100, 0.2, 0, 0\n",
    "ts = np.linspace(0, 1, 13)\n",
    "npaths = 100000\n",
    "pathsS = blackscholes_mc(S0, vol, r, q, ts=ts, npaths=npaths)                                  # stock prices\n",
    "pathsA = np.vstack((pathsS[0], np.cumsum(pathsS[1:], axis=0)/np.arange(1, 13)[:, np.newaxis])) # running averages\n",
    "vol_ = 0.1\n",
    "payoff = np.maximum(pathsA[-1]-K, 0)\n",
    "betas_AC = np.full((len(ts), 2), np.nan, dtype=np.float)\n",
    "for i in range(len(ts)-2, 0, -1):\n",
    "    discount = np.exp(-r*(ts[i+1]-ts[i]))\n",
    "    payoff = payoff*discount\n",
    "    Z = (i*pathsA[i]+(12-i)*pathsS[i])/12\n",
    "    callZ = blackscholes_price(K, ts[-1]-ts[i], Z, vol_, callput='call')\n",
    "    A = np.vstack((np.ones_like(Z), callZ)).T\n",
    "    betas_AC[i] = np.linalg.lstsq(A, payoff)[0]           # regression to estimate continuation values\n",
    "    contval = betas_AC[i, 0]+betas_AC[i, 1]*callZ\n",
    "    exerval = np.maximum(pathsA[i]-K, 0)\n",
    "    ind = exerval > contval                               # identify the paths where we should exercise\n",
    "    payoff[ind] = exerval[ind]\n",
    "betas_AC"
   ]
  },
  {
   "cell_type": "markdown",
   "metadata": {},
   "source": [
    "<b>Question 4(a) Lower Bound</b>"
   ]
  },
  {
   "cell_type": "code",
   "execution_count": 13,
   "metadata": {},
   "outputs": [
    {
     "data": {
      "text/plain": [
       "5.3053756735085464"
      ]
     },
     "execution_count": 13,
     "metadata": {},
     "output_type": "execute_result"
    }
   ],
   "source": [
    "S0, K, vol, r, q, vol_ = 100, 100, 0.2, 0, 0, 0.1\n",
    "ts = np.linspace(0, 1, 13)\n",
    "\n",
    "# Optimal stopping strategy\n",
    "def ac_exer_or_cont(i,cumS, S):\n",
    "    if i>=len(ts)-1:\n",
    "        return cumS>K\n",
    "    else:\n",
    "        Z = (i*cumS+(12-i)*S)/12\n",
    "        callZ = blackscholes_price(K, ts[-1]-ts[i], Z, vol_, callput='call')\n",
    "        contval = betas_AC[i, 0]+betas_AC[i, 1]*callZ\n",
    "        exerval = np.maximum(cumS-K, 0)\n",
    "        return exerval>contval  # exercise only if exercise value is larger than continuation value\n",
    "\n",
    "# Lower Bound\n",
    "npaths = 1000000\n",
    "pathsS1 = blackscholes_mc(S0, vol, r, q, ts, npaths=npaths)                                  # stock prices\n",
    "pathsA1 = np.vstack((pathsS1[0], np.cumsum(pathsS1[1:], axis=0)/np.arange(1, 13)[:, np.newaxis])) # running averages\n",
    "alive = np.full(npaths, True, dtype=bool)\n",
    "payoffs = np.zeros(npaths, dtype=np.float)\n",
    "for i in range(1, len(ts)):\n",
    "    exerval = np.maximum(pathsA1[i]-K, 0)\n",
    "    ind = ac_exer_or_cont(i, pathsA1[i], pathsS1[i]) & alive\n",
    "    payoffs[ind] = exerval[ind]*np.exp(-r*ts[i])\n",
    "    alive[ind] = False\n",
    "V1_ = np.mean(payoffs)\n",
    "V1_"
   ]
  },
  {
   "cell_type": "markdown",
   "metadata": {},
   "source": [
    "<b>Question 4(a) Upper Bound</b>"
   ]
  },
  {
   "cell_type": "code",
   "execution_count": 14,
   "metadata": {},
   "outputs": [
    {
     "data": {
      "text/plain": [
       "5.3954799105399953"
      ]
     },
     "execution_count": 14,
     "metadata": {},
     "output_type": "execute_result"
    }
   ],
   "source": [
    "# nested simulation from time t_i when stock price is S\n",
    "def ac_nested_mc(i, cumS, S, nsims=1000):\n",
    "    alive = np.arange(nsims)                                   # keep track of indices of paths still alive\n",
    "    payoff = np.zeros(nsims, dtype=np.float)\n",
    "    pathsS = np.full(nsims, S, dtype=np.float)\n",
    "    pathsA = np.full(nsims, cumS, dtype=np.float)\n",
    "    for j in range(i+1, len(ts)):\n",
    "        if len(alive) == 0:                                    # if exercised for all paths, stop\n",
    "            break\n",
    "        dt = ts[j]-ts[j-1]\n",
    "        dW = np.random.randn(len(alive))*np.sqrt(dt)           # Brownian increment\n",
    "        pathsS[alive] = pathsS[alive] * np.exp(-0.5*vol**2*dt+vol*dW)*np.exp((r-q)*dt)  # simulate S_{j+1} from S_j\n",
    "        pathsA[alive] = (pathsA[alive]*(j-1) + pathsS[alive])/j    # running averages\n",
    "        ind = ac_exer_or_cont(j, pathsA[alive], pathsS[alive])                    # identify the paths that need exercise\n",
    "        payoff[alive[ind]] = np.maximum(pathsA[alive[ind]]-K, 0)*np.exp(-r*ts[j])      # update payoffs for exercised paths\n",
    "        alive = alive[~ind]                                    # remove exercised paths \n",
    "    return np.mean(payoff)                                     # taking average of paths\n",
    "\n",
    "\n",
    "# Upper bound\n",
    "npaths = 1000                                                  # number of paths in the second independent run\n",
    "nsims = 500                                                    # number of paths used in nested simulation\n",
    "pathsS1 = blackscholes_mc(S0, vol, r, q, ts, npaths=npaths)                                  # stock prices\n",
    "pathsA1 = np.vstack((pathsS1[0], np.cumsum(pathsS1[1:], axis=0)/np.arange(1, 13)[:, np.newaxis])) # running averages\n",
    "pathsV1 = np.empty(pathsS1.shape, dtype=np.float)                 # discounted value process V_i (discounted to time zero)\n",
    "pathsV1[0] = V1_                                                 # Initial value from lower bound simulation\n",
    "pathsV1[-1] = np.maximum(pathsA1[-1]-K, 0)*np.exp(-r*ts[-1])      # values at final maturity\n",
    "pathsEV1 = np.empty(paths.shape, dtype=np.float)                # Conditional expectation E[V_{i+1}|F_i], or continuation value\n",
    "pathsEV1[0] = pathsV1[0]                                         # at time 0, option value = continuation value\n",
    "for i in range(1, len(ts)-1):\n",
    "    for j in range(npaths):\n",
    "        S = pathsS1[i, j]                                        # stock price at time t_i and j-th path\n",
    "        cumS = pathsA1[i, j]\n",
    "        if ac_exer_or_cont(i, cumS, S):\n",
    "            pathsV1[i, j] = np.maximum(cumS-K, 0)*np.exp(-r*ts[i]) # if exercised, V_i = exercise value\n",
    "            pathsEV1[i, j] = ac_nested_mc(i, cumS, S, nsims=nsims)       # launch nested simulation to estimate E[V_{i+1}|F_i]\n",
    "        else:\n",
    "            pathsV1[i, j] = ac_nested_mc(i, cumS, S, nsims=nsims)        # if continue, use nested simulation to estimate V_i\n",
    "            pathsEV1[i, j] = pathsV1[i, j]                       # E[V_{i+1}|F_i] = V_i\n",
    "M1 = np.zeros_like(pathsS1)\n",
    "M1[1:] = np.cumsum(pathsV1[1:]-pathsEV1[:-1], axis=0)             # martinglae increment V_{i+1}-E[V_{i+1}|F_i]\n",
    "# taking average of max value of D_sF_s-M_s along each path\n",
    "V1 = np.mean((np.maximum(pathsA1-K, 0)*np.exp(-r*ts[:, np.newaxis])-M1).max(axis=0))\n",
    "V1"
   ]
  },
  {
   "cell_type": "markdown",
   "metadata": {},
   "source": [
    "<b>Question 4(b) Longstaff Schwartz Algorithm</b>"
   ]
  },
  {
   "cell_type": "code",
   "execution_count": 15,
   "metadata": {},
   "outputs": [
    {
     "data": {
      "text/plain": [
       "array([[             nan,              nan,              nan,\n",
       "                     nan,              nan,              nan],\n",
       "       [  1.57393991e+02,  -1.81856186e+00,  -1.81856186e+00,\n",
       "          7.02371365e-03,   7.02371442e-03,   7.02371442e-03],\n",
       "       [  1.55463990e+02,  -1.56719130e+00,  -2.02704446e+00,\n",
       "          7.81742118e-03,   1.16402909e-02,   1.33147819e-03],\n",
       "       [  1.51826069e+02,  -1.86829179e+00,  -1.64680926e+00,\n",
       "          8.71899876e-03,   8.43211027e-03,   3.17477169e-03],\n",
       "       [  1.49297677e+02,  -2.20631919e+00,  -1.25191408e+00,\n",
       "          1.27157276e-02,   8.24986242e-03,  -9.85688499e-04],\n",
       "       [  1.44909775e+02,  -2.40603086e+00,  -9.54317691e-01,\n",
       "          1.40642527e-02,   6.72034669e-03,  -1.36944866e-03],\n",
       "       [  1.39655386e+02,  -2.54479365e+00,  -7.01338411e-01,\n",
       "          1.50973435e-02,   5.40351716e-03,  -1.72188481e-03],\n",
       "       [  1.34290351e+02,  -2.64122851e+00,  -4.88378603e-01,\n",
       "          1.62240409e-02,   4.65583521e-03,  -2.74673857e-03],\n",
       "       [  1.29408968e+02,  -2.67484632e+00,  -3.49649001e-01,\n",
       "          1.59184164e-02,   3.18617552e-03,  -1.54368555e-03],\n",
       "       [  1.23736598e+02,  -2.67641118e+00,  -2.27633229e-01,\n",
       "          1.58042880e-02,   2.16050728e-03,  -1.04700460e-03],\n",
       "       [  1.17102321e+02,  -2.58889128e+00,  -1.76877962e-01,\n",
       "          1.47333165e-02,   1.00195587e-03,   4.62996251e-04],\n",
       "       [  1.10187423e+02,  -2.51104060e+00,  -1.14809755e-01,\n",
       "          1.39803072e-02,   6.48707264e-05,   1.45497612e-03],\n",
       "       [             nan,              nan,              nan,\n",
       "                     nan,              nan,              nan]])"
      ]
     },
     "execution_count": 15,
     "metadata": {},
     "output_type": "execute_result"
    }
   ],
   "source": [
    "# Longstaff-Schwartz\n",
    "S0, K, vol, r, q = 100, 100, 0.2, 0, 0\n",
    "ts = np.linspace(0, 1, 13)\n",
    "npaths = 100000\n",
    "pathsS = blackscholes_mc(S0, vol, r, q, ts=ts, npaths=npaths)                                  # stock prices\n",
    "pathsA = np.vstack((pathsS[0], np.cumsum(pathsS[1:], axis=0)/np.arange(1, 13)[:, np.newaxis])) # running averages\n",
    "vol_ = 0.1\n",
    "payoff = np.maximum(pathsA[-1]-K, 0)\n",
    "betas_AC1 = np.full((len(ts), 6), np.nan, dtype=np.float)\n",
    "for i in range(len(ts)-2, 0, -1):\n",
    "    discount = np.exp(-r*(ts[i+1]-ts[i]))\n",
    "    payoff = payoff*discount\n",
    "    A = np.vstack((np.ones_like(pathsS[i]), pathsA[i], pathsS[i], pathsA[i]**2, pathsS[i]**2, pathsA[i]*pathsS[i])).T\n",
    "    betas_AC1[i] = np.linalg.lstsq(A, payoff)[0]           # regression to estimate continuation values\n",
    "    contval=betas_AC1[i,0]+betas_AC1[i,1]*pathsA[i]+betas_AC1[i,2]*pathsS[i]+betas_AC1[i,3]*pathsA[i]**2+betas_AC1[i,4]*pathsS[i]**2+betas_AC1[i,5]*pathsA[i]*pathsS[i]\n",
    "    exerval = np.maximum(pathsA[i]-K, 0)\n",
    "    ind = exerval > contval                               # identify the paths where we should exercise\n",
    "    payoff[ind] = exerval[ind]\n",
    "betas_AC1"
   ]
  },
  {
   "cell_type": "markdown",
   "metadata": {},
   "source": [
    "<b>Question 4(b) Lower Bound</b>"
   ]
  },
  {
   "cell_type": "code",
   "execution_count": 16,
   "metadata": {},
   "outputs": [
    {
     "data": {
      "text/plain": [
       "5.0865240507427547"
      ]
     },
     "execution_count": 16,
     "metadata": {},
     "output_type": "execute_result"
    }
   ],
   "source": [
    "S0, K, vol, r, q, vol_ = 100, 100, 0.2, 0, 0, 0.1\n",
    "ts = np.linspace(0, 1, 13)\n",
    "\n",
    "# Optimal stopping strategy\n",
    "def ac_exer_or_cont2(i,cumS, S):\n",
    "    if i>=len(ts)-1:\n",
    "        return cumS>K\n",
    "    else:\n",
    "        contval = betas_AC1[i,0]+betas_AC1[i,1]*cumS+betas_AC1[i,2]*S+betas_AC1[i,3]*cumS**2+betas_AC1[i,4]*S**2+betas_AC1[i,5]*cumS*S\n",
    "        exerval = np.maximum(cumS-K, 0)\n",
    "        return exerval>contval  # exercise only if exercise value is larger than continuation value\n",
    "\n",
    "# Lower Bound\n",
    "npaths = 1000000\n",
    "pathsS2 = blackscholes_mc(S0, vol, r, q, ts, npaths=npaths)                                  # stock prices\n",
    "pathsA2 = np.vstack((pathsS2[0], np.cumsum(pathsS2[1:], axis=0)/np.arange(1, 13)[:, np.newaxis])) # running averages\n",
    "alive = np.full(npaths, True, dtype=bool)\n",
    "payoffs = np.zeros(npaths, dtype=np.float)\n",
    "for i in range(1, len(ts)):\n",
    "    exerval = np.maximum(pathsA2[i]-K, 0)\n",
    "    ind = ac_exer_or_cont2(i, pathsA2[i], pathsS2[i]) & alive\n",
    "    payoffs[ind] = exerval[ind]*np.exp(-r*ts[i])\n",
    "    alive[ind] = False\n",
    "V2_ = np.mean(payoffs)\n",
    "V2_"
   ]
  },
  {
   "cell_type": "markdown",
   "metadata": {},
   "source": [
    "<b>Question 4(b) Upper Bound</b>"
   ]
  },
  {
   "cell_type": "code",
   "execution_count": 17,
   "metadata": {},
   "outputs": [
    {
     "data": {
      "text/plain": [
       "5.4414743400560743"
      ]
     },
     "execution_count": 17,
     "metadata": {},
     "output_type": "execute_result"
    }
   ],
   "source": [
    "# nested simulation from time t_i when stock price is S\n",
    "def ac_nested_mc2(i, cumS, S, nsims=1000):\n",
    "    alive = np.arange(nsims)                                   # keep track of indices of paths still alive\n",
    "    payoff = np.zeros(nsims, dtype=np.float)\n",
    "    pathsS = np.full(nsims, S, dtype=np.float)\n",
    "    pathsA = np.full(nsims, cumS, dtype=np.float)\n",
    "    for j in range(i+1, len(ts)):\n",
    "        if len(alive) == 0:                                    # if exercised for all paths, stop\n",
    "            break\n",
    "        dt = ts[j]-ts[j-1]\n",
    "        dW = np.random.randn(len(alive))*np.sqrt(dt)           # Brownian increment\n",
    "        pathsS[alive] = pathsS[alive] * np.exp(-0.5*vol**2*dt+vol*dW)*np.exp((r-q)*dt)  # simulate S_{j+1} from S_j\n",
    "        pathsA[alive] = (pathsA[alive]*(j-1) + pathsS[alive])/j    # running averages\n",
    "        ind = ac_exer_or_cont2(j, pathsA[alive], pathsS[alive])                    # identify the paths that need exercise\n",
    "        payoff[alive[ind]] = np.maximum(pathsA[alive[ind]]-K, 0)*np.exp(-r*ts[j])      # update payoffs for exercised paths\n",
    "        alive = alive[~ind]                                    # remove exercised paths \n",
    "    return np.mean(payoff)                                     # taking average of paths\n",
    "\n",
    "\n",
    "# Upper bound\n",
    "npaths = 1000                                                  # number of paths in the second independent run\n",
    "nsims = 500                                                    # number of paths used in nested simulation\n",
    "pathsS2 = blackscholes_mc(S0, vol, r, q, ts, npaths=npaths)                                  # stock prices\n",
    "pathsA2 = np.vstack((pathsS2[0], np.cumsum(pathsS2[1:], axis=0)/np.arange(1, 13)[:, np.newaxis])) # running averages\n",
    "pathsV2 = np.empty(pathsS2.shape, dtype=np.float)                 # discounted value process V_i (discounted to time zero)\n",
    "pathsV2[0] = V2_                                                 # Initial value from lower bound simulation\n",
    "pathsV2[-1] = np.maximum(pathsA2[-1]-K, 0)*np.exp(-r*ts[-1])      # values at final maturity\n",
    "pathsEV2 = np.empty(pathsS2.shape, dtype=np.float)                # Conditional expectation E[V_{i+1}|F_i], or continuation value\n",
    "pathsEV2[0] = pathsV2[0]                                         # at time 0, option value = continuation value\n",
    "for i in range(1, len(ts)-1):\n",
    "    for j in range(npaths):\n",
    "        S = pathsS2[i, j]                                        # stock price at time t_i and j-th path\n",
    "        cumS = pathsA2[i, j]\n",
    "        if ac_exer_or_cont2(i, cumS, S):\n",
    "            pathsV2[i, j] = np.maximum(cumS-K, 0)*np.exp(-r*ts[i]) # if exercised, V_i = exercise value\n",
    "            pathsEV2[i, j] = ac_nested_mc2(i, cumS, S, nsims=nsims)       # launch nested simulation to estimate E[V_{i+1}|F_i]\n",
    "        else:\n",
    "            pathsV2[i, j] = ac_nested_mc2(i, cumS, S, nsims=nsims)        # if continue, use nested simulation to estimate V_i\n",
    "            pathsEV2[i, j] = pathsV2[i, j]                       # E[V_{i+1}|F_i] = V_i\n",
    "M2 = np.zeros_like(pathsS2)\n",
    "M2[1:] = np.cumsum(pathsV2[1:]-pathsEV2[:-1], axis=0)             # martinglae increment V_{i+1}-E[V_{i+1}|F_i]\n",
    "# taking average of max value of D_sF_s-M_s along each path\n",
    "V2 = np.mean((np.maximum(pathsA2-K, 0)*np.exp(-r*ts[:, np.newaxis])-M2).max(axis=0))\n",
    "V2"
   ]
  },
  {
   "cell_type": "markdown",
   "metadata": {},
   "source": [
    "<b>Question 4(c) Duality Gaps</b>"
   ]
  },
  {
   "cell_type": "code",
   "execution_count": 18,
   "metadata": {},
   "outputs": [
    {
     "name": "stdout",
     "output_type": "stream",
     "text": [
      "{'Lower Bound': 5.3053756735085464, 'Upper Bound': 5.3954799105399953}\n",
      "{'Lower Bound': 5.0865240507427547, 'Upper Bound': 5.4414743400560743}\n"
     ]
    }
   ],
   "source": [
    "dual_gap1 = {'Lower Bound': V1_ , 'Upper Bound': V1}  # Duality gap from (a)\n",
    "dual_gap2 = {'Lower Bound': V2_ , 'Upper Bound': V2}  # Duality gap from (b)\n",
    "print(dual_gap1)\n",
    "print(dual_gap2)"
   ]
  },
  {
   "cell_type": "markdown",
   "metadata": {},
   "source": [
    "<b>Question 4(c) Comment</b>\n",
    "<ul> \n",
    "<li>The duality gap from (a) is more convergent than the duality gap from (b). Therefore, the basic functions in (a) do a better job than the basic functions in (b). Presumably the reason is that there exists overfitting in (b). \n",
    "</ul>\n"
   ]
  }
 ],
 "metadata": {
  "anaconda-cloud": {},
  "kernelspec": {
   "display_name": "Python 3",
   "language": "python",
   "name": "python3"
  },
  "language_info": {
   "codemirror_mode": {
    "name": "ipython",
    "version": 3
   },
   "file_extension": ".py",
   "mimetype": "text/x-python",
   "name": "python",
   "nbconvert_exporter": "python",
   "pygments_lexer": "ipython3",
   "version": "3.7.0"
  }
 },
 "nbformat": 4,
 "nbformat_minor": 1
}

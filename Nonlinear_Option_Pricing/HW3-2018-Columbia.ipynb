{
 "cells": [
  {
   "cell_type": "markdown",
   "metadata": {},
   "source": [
    "# Homework III¶\n",
    "### Due Date: 11:55 PM Thursday, March 29, 2018\n",
    "\n",
    "You should turn in the notebook at Columbia CourseWorks website.\n",
    "\n",
    "Before you turn in the notebook, press the \"Run all cells\" button in the toolbar, and make sure all the calculation results and graphs are produced correctly, and then save the notebook."
   ]
  },
  {
   "cell_type": "markdown",
   "metadata": {},
   "source": [
    "# Uncertain Mortality Model"
   ]
  },
  {
   "cell_type": "markdown",
   "metadata": {},
   "source": [
    "** Re-insurance Deals**\n",
    "\n",
    "In this assignment, we study the *Uncertain Mortality Model* for the pricing of reinsurance deals. For the sake of simplicity, in this assignment we only consider one type of default: the risk of death.\n",
    "\n",
    "We consider the following reinsurance product:\n",
    "\n",
    "- At maturity, if the insurance subscriber is alive, the issuer delivers a put on the underlying $X$\n",
    "\n",
    "$$\n",
    "u^\\textrm{mat}( x) = (K_\\textrm{mat} - x)_+.\n",
    "$$\n",
    "\n",
    "- At the time of death, if it is before the maturity, the issuer delivers an exit payoff, typically another put on the underlying $X$.\n",
    "\n",
    "$$\n",
    "u^D(t, x) = (K_D - x)_+.\n",
    "$$\n",
    "\n",
    "- The subscriber pays a constant fee $α\\Delta t$ at every time step until death or the maturity or the product\n",
    "\n",
    "- The insurance sells a large number of these contracts to subscribers. We assume that the times of death of the subscribers $\\tau^D$ are independent, and identically distributed, and also independent of the underlying's stock price.\n",
    "\n",
    "- We assume that the underlying's risk neutral price dynamics is the Black-Scholes model with zero interest rate/repo/dividend yield\n",
    "\n",
    "$$\n",
    "dX_t = \\sigma X_t d W_t.\n",
    "$$\n",
    "\n",
    "** The Insurers' Approach and Risk-Neutral Pricing**\n",
    "\n",
    "This contract shows two types of risk: the times of death of the subscribers and the changes in the price of the underlying. \n",
    "\n",
    "In this case, the issuer can apply the insurer's approach to the risk of death times, i.e., the law of large numbers. The more people buy the contract, the less risk.\n",
    "\n",
    "Choosing a risk-neutral measure under which the death times $\\tau^D$ have the same distribution as under the historical probability measure is equivalent to applying the arbitrage-pricing approach to the financial risk insurer's rule on the risk of death. The price of the contract is then\n",
    "\n",
    "$$\n",
    "u(t, x) = \\mathbb{E}^\\mathbb{Q}_{t, x} \\left[u^\\textrm{mat}(X_T) \\mathbb{1}_{\\tau^D \\geq T} -\\int_t^T\\alpha\\mathbb{1}_{\\tau^D>s}ds+ u^D(\\tau^D, X_{\\tau^D}) \\mathbb{1}_{\\tau^D < T} \\right].\n",
    "$$\n",
    "\n",
    "** Deterministic Death Rate **\n",
    "\n",
    "If the death intensity is a deterministic function $\\lambda_t^D$ (i.e. $\\tau^D$ has an exponential distribution with time-dependent intensity $\\lambda_t^D$), then we have seen that $u$ is the solution to the linear PDE\n",
    "\n",
    "$$\n",
    "\\left\\{\\begin{array}{l}\n",
    "\\partial_t u + \\frac{1}{2} \\sigma^2 x^2 \\partial_x^2 u -\\alpha + \\lambda_t^D \\cdot (u^D - u) = 0,\\\\\n",
    "u(T, \\cdot) \\equiv u^\\textrm{mat}.\n",
    "\\end{array}\\right.\n",
    "$$\n",
    "\n",
    "** Uncertain Mortality Model **\n",
    "\n",
    "If the death rate is uncertain, we assume that it is adapted (i.e., it does not look into the future) and belongs to a moving corridor\n",
    "$\\left[\\underline{\\lambda}_t, \\overline{\\lambda}_t\\right]$. The most conservative way to price the contract is to compute the (financially) worst death rate process $\\lambda_t^D$ as being chosen so as to maximize the value of the contract. The resulting HJB equation is\n",
    "\n",
    "$$\n",
    "\\left\\{\\begin{array}{l}\n",
    "\\partial_t u + \\frac{1}{2} \\sigma^2 x^2 \\partial^2_x u -\\alpha + \\Lambda^D(t, u^D - u) \\cdot (u^D - u) = 0,\\\\\n",
    "u(T, \\cdot) \\equiv u^\\textrm{mat},\n",
    "\\end{array}\\right.\n",
    "$$\n",
    "where the function $\\Lambda^D$ is defined by\n",
    "$$\n",
    "\\Lambda^D (t, y) = \\left\\{\\begin{array}{l}\n",
    "    \\overline{\\lambda}^D_t \\quad \\textrm{if} \\ y \\geq 0, \\\\\n",
    "    \\underline{\\lambda}^D_t \\quad \\textrm{otherwise.}\n",
    "\\end{array}\\right.\n",
    "$$"
   ]
  },
  {
   "cell_type": "markdown",
   "metadata": {},
   "source": [
    "## Link with $1$-BSDE and Numerical Schemes\n",
    "\n",
    "From the Pardoux-Peng theorem, we know that the solution $u(0, x)$ can be represented as the solution $Y_0^x$ to the $1$-BSDE\n",
    "\n",
    "$$\n",
    "dY_t = -f(t, X_t, Y_t, Z_t) \\, dt + Z_t \\, dW_t,\n",
    "$$\n",
    "\n",
    "with the terminal condition $Y_T = u^\\textrm{mat} (X_T)$, where $X_0 = x$ and\n",
    "\n",
    "$$\n",
    "f(t, x, y, z) = -\\alpha + \\Lambda^D(t, u^D(t, x) - y) \\cdot (u^D(t, x) - y).\n",
    "$$\n",
    "\n",
    "\n",
    "## BSDE Discretization\n",
    "\n",
    "### Explicit Euler Schemes\n",
    "\n",
    "\\begin{align*}\n",
    "Y_{t_n} =& \\ u^{\\text{mat}}\\left(X_{t_n}\\right)\\\\\n",
    "Y_{t_{i - 1}} =& \\ \\mathbb{E}^\\mathbb{Q}_{i - 1} [ Y_{t_i} ] -\\alpha\\Delta t_i + \\Lambda^D \\left(t_{i - 1}, u^D(t_{i - 1} , X_{t_{i - 1}}) - \\mathbb{E}^\\mathbb{Q}_{i - 1} [ Y_{t_i} ]\\right) \\cdot \\left( u^D(t_{i - 1}, X_{t_{i - 1}}) - \\mathbb{E}^\\mathbb{Q}_{i - 1} [ Y_{t_i} ] \\right) \\Delta t_i\\\\\n",
    "=& -\\alpha\\Delta t_i + \\left( \\mathbb{E}^\\mathbb{Q}_{i - 1} [ Y_{t_i} ] \\left( 1 - \\overline{\\lambda}^D \\Delta t_i \\right) +\n",
    "u^D(t_{i - 1}, X_{t_{i - 1}}) \\overline{\\lambda}^D \\Delta t_i \\right) \\mathbb{1}_{u^D\\left(t_{i - 1}, X_{t_{i - 1}}\\right) \\geq \\mathbb{E}_{i-1}[Y_{t_i}]}\\\\\n",
    "& + \\left( \\mathbb{E}^\\mathbb{Q}_{i - 1} [ Y_{t_i} ] \\left( 1 - \\underline{\\lambda}^D \\Delta t_i \\right) +\n",
    "u^D(t_{i - 1}, X_{t_{i - 1}}) \\underline{\\lambda}^D \\Delta t_i \\right) \\mathbb{1}_{u^D\\left(t_{i - 1}, X_{t_{i - 1}}\\right) < \\mathbb{E}_{i-1}[Y_{t_i}]}.\n",
    "\\end{align*}\n",
    "\n",
    "### Implicit Euler Scheme\n",
    "\n",
    "\\begin{align*}\n",
    "Y_{t_n} =& \\ u^{\\text{mat}}\\left(X_{t_n}\\right)\\\\\n",
    "Y_{t_{i - 1}} =& \\ \\mathbb{E}^\\mathbb{Q}_{i - 1} [Y_{t_i}] -\\alpha\\Delta t_i+ \\Lambda^D \\left(t_{i - 1}, u^D(t_{i - 1}, X_{t_{i - 1}}) - Y_{t_{i - 1}}\\right) \\cdot \\left( u^D(t_{i - 1}, X_{t_{i - 1}}) - Y_{t_{i - 1}} \\right) \\Delta t_i.\n",
    "\\end{align*}\n",
    "\n",
    "The implicit scheme involves $Y_{t_{i - 1}}$ on both sides of the equation, which generally requires a root-finding routine to find $Y_{t_{i - 1}}$. However in this specific case, it can be shown that \n",
    "\n",
    "$$u^D(t_{i-1}, X_{t_{i-1}}) \\geq Y_{t_{i-1}}\\quad\\text{if and only if}\\quad u^D(t_{i-1}, X_{t_{i-1}}) \\geq \\mathbb{E}^{\\mathbb{Q}}_{i-1}\\left[Y_{t_i}\\right]-\\alpha\\Delta t_i.$$\n",
    "\n",
    "Thus\n",
    "\n",
    "\\begin{split}\n",
    "Y_{t_{i - 1}} =& \\frac{1}{1 + \\overline{\\lambda}^D \\Delta t_i} \\left( \\mathbb{E}^\\mathbb{Q}_{i - 1} [ Y_{t_i} ] - \\alpha\\Delta t_i +\n",
    "u^D(t_{i - 1}, X_{t_{i - 1}}) \\overline{\\lambda}^D \\Delta t_i \\right) \\mathbb{1}_{u^D\\left(t_{i - 1}, X_{t_{i - 1}}\\right) \\geq \\mathbb{E}_{i-1}[Y_{t_i}]-\\alpha\\Delta t_i}\\\\\n",
    "& + \\frac{1}{1 + \\underline{\\lambda}^D \\Delta t_i} \\left( \\mathbb{E}^\\mathbb{Q}_{i - 1} [ Y_{t_i} ] -\\alpha\\Delta t_i +\n",
    "u^D(t_{i - 1}, X_{t_{i - 1}}) \\underline{\\lambda}^D \\Delta t_i \\right) \\mathbb{1}_{u^D(t_{i - 1}, X_{t_{i - 1}}) < \\mathbb{E}_{i-1}[Y_{t_i}]-\\alpha\\Delta t_i}.\n",
    "\\end{split}\n",
    "\n"
   ]
  },
  {
   "cell_type": "code",
   "execution_count": 20,
   "metadata": {
    "collapsed": true
   },
   "outputs": [],
   "source": [
    "%matplotlib inline\n",
    "import matplotlib.pyplot as plt\n",
    "import numpy as np\n",
    "from scipy.stats import norm\n",
    "from scipy.interpolate import interp1d\n",
    "from scipy.optimize import fsolve"
   ]
  },
  {
   "cell_type": "code",
   "execution_count": 21,
   "metadata": {
    "collapsed": true
   },
   "outputs": [],
   "source": [
    "def blackscholes_mc(S, vol, r, q, ts, npaths):\n",
    "    \"\"\"Generate Monte-Carlo paths in Black-Scholes model.\n",
    "\n",
    "    Parameters\n",
    "    ----------\n",
    "    S: scalar\n",
    "        The spot price of the underlying security.\n",
    "    vol: scalar\n",
    "        The implied Black-Scholes volatility.\n",
    "    r: scalar\n",
    "        The annualized risk-free interest rate, continuously compounded.\n",
    "    q: scalar\n",
    "        The annualized continuous dividend yield.\n",
    "    ts: array_like\n",
    "        The time steps of the simualtion\n",
    "    npaths: int\n",
    "        the number of paths to simulate\n",
    "\n",
    "    Returns\n",
    "    -------\n",
    "    paths: ndarray\n",
    "        The Monte-Carlo paths.\n",
    "    \"\"\"\n",
    "    nsteps = len(ts) - 1\n",
    "    ts = np.asfarray(ts)[:, np.newaxis]\n",
    "    W = np.cumsum(np.vstack((np.zeros((1, npaths), dtype=np.float),\n",
    "                             np.random.randn(nsteps, npaths) * np.sqrt(np.diff(ts, axis=0)))),\n",
    "                  axis=0)\n",
    "    paths = np.exp(-0.5*vol**2*ts + vol*W)*S*np.exp((r-q)*ts)\n",
    "    return paths\n",
    "\n",
    "def blackscholes_price(K, T, S, vol, r=0, q=0, callput='call'):\n",
    "    \"\"\"Compute the call/put option price in the Black-Scholes model\n",
    "    \n",
    "    Parameters\n",
    "    ----------\n",
    "    K: scalar or array_like\n",
    "        The strike of the option.\n",
    "    T: scalar or array_like\n",
    "        The maturity of the option, expressed in years (e.g. 0.25 for 3-month and 2 for 2 years)\n",
    "    S: scalar or array_like\n",
    "        The current price of the underlying asset.\n",
    "    vol: scalar or array_like\n",
    "        The implied Black-Scholes volatility.\n",
    "    r: scalar or array_like\n",
    "        The annualized risk-free interest rate, continuously compounded.\n",
    "    q: scalar or array_like\n",
    "        The annualized continuous dividend yield.\n",
    "    callput: str\n",
    "        Must be either 'call' or 'put'.\n",
    "\n",
    "    Returns\n",
    "    -------\n",
    "    price: scalar or array_like\n",
    "        The price of the option.\n",
    "\n",
    "    Examples\n",
    "    --------\n",
    "    >>> blackscholes_price(95, 0.25, 100, 0.2, r=0.05, callput='put')\n",
    "    1.5342604771222823\n",
    "    \"\"\"\n",
    "    F = S*np.exp((r-q)*T)\n",
    "    v = np.sqrt(vol**2*T)\n",
    "    d1 = np.log(F/K)/v + 0.5*v\n",
    "    d2 = d1 - v\n",
    "    try:\n",
    "        opttype = {'call':1, 'put':-1}[callput.lower()]\n",
    "    except:\n",
    "        raise ValueError('The value of callput must be either \"call\" or \"put\".')\n",
    "    price = opttype*(F*norm.cdf(opttype*d1)-K*norm.cdf(opttype*d2))*np.exp(-r*T)\n",
    "    return price\n",
    "\n",
    "\n",
    "def piecewiselinear_fit(xdata, ydata, knots):\n",
    "    \"\"\"\n",
    "    Parameters\n",
    "    ----------\n",
    "    xdata: array_like\n",
    "        The x-coordinates of the data points.\n",
    "    ydata: array_like\n",
    "        The y-coordinates of the data points.\n",
    "    knots: array_like\n",
    "        Knots of the piecewise linear function, must be increasing.\n",
    "    \n",
    "    Returns\n",
    "    -------\n",
    "    res: ndarray\n",
    "        Coefficients of the piecewise linear function\n",
    "    \"\"\"\n",
    "    nknots = len(knots)\n",
    "    diag = np.identity(nknots)\n",
    "    A = np.vstack([np.interp(xdata, knots, diag[i]) for i in range(nknots)]).T\n",
    "    return np.linalg.lstsq(A, ydata)[0]"
   ]
  },
  {
   "cell_type": "markdown",
   "metadata": {},
   "source": [
    "<b>Note.</b> To be more specific about the payouts of the product, we make the following assumptions:\n",
    "\n",
    "- We assume that all transactions occur at the end of the month, i.e. the insurance subsriber is expected to pay a fee of $\\alpha/12$ at the end of each month; if the subscriber dies in the middle of the month, the death payment will be made at the end of that month. \n",
    "\n",
    "- If the death occurs at the maturity, we assume that the death comes first and the death payment $u^D$ will be made."
   ]
  },
  {
   "cell_type": "markdown",
   "metadata": {},
   "source": [
    "## Assignment III\n",
    "\n",
    "<b style=\"color:darkorange\">Question 1</b> (Deterministic Mortality Rate Model)\n",
    "\n",
    "We assume that the underlying's risk neutral price dynamics is the Black-Scholes model with zero interest rate/repo/dividend yield\n",
    "\n",
    "$$dX_t = \\sigma X_t d W_t,\\quad X_0=100,\\quad\\sigma=0.3$$\n",
    "\n",
    "We shall price the reinsurance deal using two Monte Carlo methods explained below.\n",
    "\n",
    "<b>(a).</b> (Direct simulation of death times) Implement a Monte Carlo simulation by directly simulating death time $\\tau^D$ for each path to estimate the quantity\n",
    "\n",
    "$$u(t, x) = \\mathbb{E}^\\mathbb{Q}_{t, x} \\left[u^\\textrm{mat}(X_T) \\mathbb{1}_{\\tau^D \\geq T} - \\int_t^T\\alpha \\mathbb{1}_{\\tau^D> s}ds\n",
    "+ u^D(\\tau^D, X_{\\tau^D}) \\mathbb{1}_{\\tau^D < T} \\right],$$\n",
    "\n",
    "when $T=10$, $K_{\\text{mat}}=90$, $K_D=100$, $\\alpha=3$, and $\\tau^D$ has an exponential distribution of constant intensity $\\lambda^D=0.025$. Use monthly time steps.\n",
    "\n",
    "<b>(b).</b> (Averaing over death events) Using the Feynman-Kac formula, derive a stochastic representation of the linear PDE \n",
    "\n",
    "$$\\left\\{\\begin{array}{l}\\partial_t u + \\frac{1}{2}\\sigma^2 x^2 \\partial_x^2 u - \\alpha + \\lambda^D \\cdot (u^D - u) = 0\\\\\n",
    "        u(T, x) \\equiv u^\\textrm{mat}(x)\\end{array}\\right.$$\n",
    "        \n",
    "that does not involve simulating death times $\\tau^D$. Explain how one can get this stochastic representation from the one given in (a). Implement the corresponding Monte Carlo simulation to estimate $u(0,X_0)$."
   ]
  },
  {
   "cell_type": "code",
   "execution_count": 22,
   "metadata": {
    "collapsed": true
   },
   "outputs": [],
   "source": [
    "# note that lambda is a reserved keyword in python, so we use lambd instead\n",
    "def exponential_samples(n, lambd):\n",
    "    \"\"\"Generate n samples from exponential distribution with rate lambd\"\"\"\n",
    "    return -np.log(np.random.rand(n))/lambd"
   ]
  },
  {
   "cell_type": "markdown",
   "metadata": {},
   "source": [
    "<b>Questions 1(a) Answer</b>"
   ]
  },
  {
   "cell_type": "code",
   "execution_count": 23,
   "metadata": {},
   "outputs": [
    {
     "data": {
      "text/plain": [
       "2.0188370300999057"
      ]
     },
     "execution_count": 23,
     "metadata": {},
     "output_type": "execute_result"
    }
   ],
   "source": [
    "# Direct simulation of death times\n",
    "T = 10\n",
    "S = 100\n",
    "vol = 0.3\n",
    "Kmat = 90.0\n",
    "KD = 100.0\n",
    "alpha = 3\n",
    "lambd = 0.025\n",
    "ts = np.linspace(0, T, int(np.round(T*12))+1)\n",
    "npaths = 100000\n",
    "paths = blackscholes_mc(S=S, vol=vol, r=0, q=0, ts=ts, npaths=npaths)\n",
    "death = exponential_samples(npaths, lambd)\n",
    "V = np.zeros_like(death)\n",
    "for i in range(npaths):\n",
    "    if death[i] > T:   \n",
    "        V[i] = np.maximum(Kmat - paths[-1, i], 0) - alpha * T\n",
    "    else:  # subscriber dies before maturity\n",
    "        V[i] = np.maximum(KD - paths[int(np.ceil(death[i]*12)), i], 0) - alpha * np.ceil(death[i]*12)/12 # payment made at end of month\n",
    "np.mean(V)"
   ]
  },
  {
   "cell_type": "markdown",
   "metadata": {},
   "source": [
    "<b>Questions 1(b) Answer</b>\n",
    "<ul>\n",
    "<li>We assume that death (D) is independent of the path of the underlying fund and the death time $\\tau^D$ is the first jump time of a Poisson process with deterministic intensity $\\lambda^D$</li>\n",
    "<li>Then we can expand the expectation given in (a) and by classical Feynman-Kac formula, we can obtain the linear PDE</li>\n",
    "<li>The price by averaging death events is greater than the the price by direct simulation of death times\n",
    "</ul>"
   ]
  },
  {
   "cell_type": "code",
   "execution_count": 24,
   "metadata": {},
   "outputs": [
    {
     "data": {
      "text/plain": [
       "2.3063157908589997"
      ]
     },
     "execution_count": 24,
     "metadata": {},
     "output_type": "execute_result"
    }
   ],
   "source": [
    "# Averaging over death events\n",
    "paths = blackscholes_mc(S=S, vol=vol, r=0, q=0, ts=ts, npaths=npaths)\n",
    "V = np.maximum(Kmat - paths[-1], 0)\n",
    "for i in range(len(ts)-2, 0, -1):\n",
    "    dt = ts[i+1] - ts[i]\n",
    "    V = np.exp(-lambd*dt) * V - alpha * dt + (1 - np.exp(-lambd*dt)) * np.maximum(KD - paths[i+1], 0) \n",
    "np.mean(V)"
   ]
  },
  {
   "cell_type": "markdown",
   "metadata": {},
   "source": [
    "<b style=\"color:darkorange\">Question 2</b> (Uncertain Mortality Rate Model - BSDE)\n",
    "\n",
    "Assume that $\\lambda^D_t \\in \\left[\\underline{\\lambda}^D, \\overline{\\lambda}^D \\right]$, where $\\underline{\\lambda}^D=0.005$ and $\\overline{\\lambda}^D=0.04$.\n",
    "\n",
    "<b>(a).</b> Implement the implicit Euler scheme for BSDE. Use piecewise-linear fit with 10 knots to estimate the conditional expectation $\\mathbb{E}^{\\mathbb{Q}}_{i-1}\\left[Y_{t_i}\\right]$. Use the numpy function percentile to define the minimum and maximum knots. Use the percentiles 1 and 99 percent. Use 100,000 paths.\n",
    "\n",
    "<b>(b).</b> Run an independent new simuation. Use the estimates of $\\mathbb{E}^{\\mathbb{Q}}_{i-1}\\left[Y_{t_i}\\right]$ obtained in (a) to get a lower bound estimate.\n",
    "\n",
    "<b>(c).</b> How does the price compare with the price in the model with deterministic mortality rate $\\underline{\\lambda}^D$? with deterministic mortality rate $\\overline{\\lambda}^D$? Check numerically."
   ]
  },
  {
   "cell_type": "markdown",
   "metadata": {},
   "source": [
    "<b>Questions 2(a) Answer</b>"
   ]
  },
  {
   "cell_type": "code",
   "execution_count": 25,
   "metadata": {},
   "outputs": [
    {
     "data": {
      "text/plain": [
       "array([[  0.00000000e+00,   0.00000000e+00,   0.00000000e+00, ...,\n",
       "          0.00000000e+00,   0.00000000e+00,   0.00000000e+00],\n",
       "       [  1.02573110e+01,   8.30921556e+00,   6.64186825e+00, ...,\n",
       "         -6.16705732e-02,  -1.05750656e+00,  -2.48446870e+00],\n",
       "       [  1.32263379e+01,   1.02076848e+01,   7.91345003e+00, ...,\n",
       "         -1.54591801e+00,  -2.68871382e+00,  -4.59529459e+00],\n",
       "       ..., \n",
       "       [  8.42932062e+01,   1.79951755e+01,  -4.83325172e+00, ...,\n",
       "         -2.80451974e-01,  -2.36752068e-01,  -2.49941491e-01],\n",
       "       [  8.46196322e+01,   1.73413857e+01,  -5.31936476e+00, ...,\n",
       "          2.80332501e-02,  -9.36379845e-03,   5.19840363e-04],\n",
       "       [  0.00000000e+00,   0.00000000e+00,   0.00000000e+00, ...,\n",
       "          0.00000000e+00,   0.00000000e+00,   0.00000000e+00]])"
      ]
     },
     "execution_count": 25,
     "metadata": {},
     "output_type": "execute_result"
    }
   ],
   "source": [
    "# Use piecewise-linear regression to estimate conditional expectation\n",
    "npaths = 100000\n",
    "S = 100\n",
    "vol = 0.3\n",
    "alpha = 3\n",
    "lambd1 = 0.04\n",
    "lambd2 = 0.005\n",
    "paths = blackscholes_mc(S=S, vol=vol, r=0, q=0, ts=ts, npaths=npaths)\n",
    "V = np.maximum(Kmat - paths[-1], 0)\n",
    "coef = np.zeros((len(ts), 10), dtype=np.float)\n",
    "\n",
    "for i in range(len(ts)-2, 0, -1):\n",
    "    dt = ts[i+1] - ts[i]\n",
    "    knots = np.linspace(np.percentile(paths[i],1), np.percentile(paths[i],99), 10)\n",
    "    coef[i] = piecewiselinear_fit(paths[i], V, knots)   # coefficients of piecewise-linear function\n",
    "    fpl = interp1d(knots, coef[i], kind='linear', bounds_error=False, fill_value=(coef[i,0], coef[i,-1]))(paths[i]) # conditional expectation\n",
    "    lambd = np.where(np.maximum(KD-paths[i],0) >= fpl-alpha*dt, lambd1, lambd2)\n",
    "    V = (fpl - alpha*dt + lambd*dt*np.maximum(KD-paths[i], 0))/(1+lambd*dt)  \n",
    "coef"
   ]
  },
  {
   "cell_type": "markdown",
   "metadata": {},
   "source": [
    "<b>Questions 2(b) Answer</b>\n",
    "<ul>\n",
    "</ul>"
   ]
  },
  {
   "cell_type": "code",
   "execution_count": 26,
   "metadata": {},
   "outputs": [
    {
     "data": {
      "text/plain": [
       "3.4603305114526388"
      ]
     },
     "execution_count": 26,
     "metadata": {},
     "output_type": "execute_result"
    }
   ],
   "source": [
    "# Use conditional expectation to get a lower bound \n",
    "paths = blackscholes_mc(S=S, vol=vol, r=0, q=0, ts=ts, npaths=npaths)\n",
    "V = np.maximum(Kmat - paths[-1], 0)\n",
    "for i in range(len(ts)-2, 0, -1):\n",
    "    dt = ts[i+1] - ts[i]\n",
    "    knots = np.linspace(np.percentile(paths[i],1), np.percentile(paths[i],99), 10)\n",
    "    fpl = interp1d(knots, coef[i], kind='linear', bounds_error=False, fill_value=(coef[i,0], coef[i,-1]))(paths[i]) # conditional expectation\n",
    "    lambd = np.where(np.maximum(KD-paths[i],0) >= fpl-alpha*dt, lambd1, lambd2)\n",
    "    V = (fpl - alpha*dt + lambd*dt*np.maximum(KD-paths[i], 0))/(1+lambd*dt)\n",
    "np.mean(V)    "
   ]
  },
  {
   "cell_type": "markdown",
   "metadata": {},
   "source": [
    "<b>Questions 2(c) Answer</b>\n",
    "<ul>\n",
    "<li>We calculate the determinstic mortality rate by averaging the upper and lower bounds, and use BSDE scheme to estimate the conditional expectation first and then obtain a lower bound in independent simulation</li>\n",
    "<li>The price in the uncertain mortality model is significantly greater than the price in the determinstic mortality model\n",
    "</ul>"
   ]
  },
  {
   "cell_type": "code",
   "execution_count": 27,
   "metadata": {},
   "outputs": [
    {
     "data": {
      "text/plain": [
       "2.04940031770697"
      ]
     },
     "execution_count": 27,
     "metadata": {},
     "output_type": "execute_result"
    }
   ],
   "source": [
    "# BSDE for Determinstic Mortality Rate\n",
    "S = 100\n",
    "vol = 0.3\n",
    "alpha = 3\n",
    "lambd1 = 0.04\n",
    "lambd2 = 0.005\n",
    "lambd = (lambd1 + lambd2)/2  # constant mortality rate\n",
    "\n",
    "# First Monte Carlo simulation to estimate conditional expectation\n",
    "npaths = 100000\n",
    "paths = blackscholes_mc(S=S, vol=vol, r=0, q=0, ts=ts, npaths=npaths)\n",
    "V = np.maximum(Kmat - paths[-1], 0)\n",
    "coef = np.zeros((len(ts), 10), dtype=np.float)\n",
    "for i in range(len(ts)-2, 0, -1):\n",
    "    dt = ts[i+1] - ts[i]\n",
    "    knots = np.linspace(np.percentile(paths[i],1), np.percentile(paths[i],99), 10)\n",
    "    coef[i] = piecewiselinear_fit(paths[i], V, knots)   # coefficients of piecewise-linear function\n",
    "    fpl = interp1d(knots, coef[i], kind='linear', bounds_error=False, fill_value=(coef[i,0], coef[i,-1]))(paths[i]) # conditional expectation\n",
    "    V = (fpl - alpha*dt + lambd*dt*np.maximum(KD-paths[i], 0))/(1+lambd*dt)  \n",
    "\n",
    "# Second Monte Carlo simulation to get a lower bound\n",
    "paths = blackscholes_mc(S=S, vol=vol, r=0, q=0, ts=ts, npaths=npaths)\n",
    "V = np.maximum(Kmat - paths[-1], 0)\n",
    "for i in range(len(ts)-2, 0, -1):\n",
    "    dt = ts[i+1] - ts[i]\n",
    "    knots = np.linspace(np.percentile(paths[i],1), np.percentile(paths[i],99), 10)\n",
    "    fpl = interp1d(knots, coef[i], kind='linear', bounds_error=False, fill_value=(coef[i,0], coef[i,-1]))(paths[i]) # conditional expectation\n",
    "    V = (fpl - alpha*dt + lambd*dt*np.maximum(KD-paths[i], 0))/(1+lambd*dt)\n",
    "np.mean(V)    "
   ]
  },
  {
   "cell_type": "markdown",
   "metadata": {},
   "source": [
    "<b style=\"color:darkorange\">Question 3</b> (Uncertain Mortality Rate Model - Longstaff and Schwartz) In addition to the BSDE simulation, the reinsurance deals can be priced by adapting the Longstaff-Schwartz algorithm. An implementation of the Longstaff-Schwartz algorithm is provided below for your convenience.\n",
    "\n",
    "The same lower and upper bounds of $\\lambda_t^D$ are used as Question 2.\n",
    "\n",
    "<b>(a).</b> In the example code, we use European put price (the strike is taken to be the average of $K_{\\text{mat}}$ and $K_D$) and constant as basis functions to estimate the sum of future payoffs. Modify the code by using the piecewise-linear fit to estimate the sum of future payoffs.\n",
    "\n",
    "<b>(b).</b> Compare the BSDE scheme with the Longstaff-Schwartz-like scheme in terms of variance (make sure you use the same number of paths for the estimation of conditional expectations in both methods).\n",
    "\n",
    "<b>(c).</b> What is approximately the value of the fee $\\alpha$ that makes the deal costless at inception?"
   ]
  },
  {
   "cell_type": "code",
   "execution_count": 28,
   "metadata": {},
   "outputs": [
    {
     "data": {
      "text/plain": [
       "3.2418304862732579"
      ]
     },
     "execution_count": 28,
     "metadata": {},
     "output_type": "execute_result"
    }
   ],
   "source": [
    "# Longstaff-Schwartz algorithm for Uncertain Mortality Rate Model\n",
    "S = 100\n",
    "vol = 0.3\n",
    "T = 10\n",
    "ts = np.linspace(0, T, int(np.round(T*12))+1)\n",
    "alpha = 3\n",
    "lambdamin = 0.005\n",
    "lambdamax = 0.04\n",
    "\n",
    "Kmat = 90.0\n",
    "KD = 100.0\n",
    "\n",
    "def umat(x):\n",
    "    return np.maximum(Kmat - x, 0)\n",
    "\n",
    "def uD(x):\n",
    "    return np.maximum(KD - x, 0)\n",
    "\n",
    "# first Monte Carlo run to estimate the value function by regressions\n",
    "npaths = 5000\n",
    "paths = blackscholes_mc(S=S, vol=vol, r=0, q=0, ts=ts, npaths=npaths)\n",
    "betas = np.zeros((len(ts), 2), dtype=np.float)\n",
    "V = umat(paths[-1])\n",
    "lambd = np.where(uD(paths[-1]) >= V, lambdamax, lambdamin)\n",
    "K = 0.5*(Kmat+KD)\n",
    "for i in range(len(ts)-2, 0, -1):\n",
    "    dt = ts[i+1]-ts[i]\n",
    "    p = 1-np.exp(-lambd*dt)\n",
    "    V = p*uD(paths[i+1]) + (1-p)*V - alpha*dt\n",
    "    Z = blackscholes_price(K, ts[-1]-ts[i], paths[i], vol, callput='put')\n",
    "    A = np.vstack((np.ones_like(Z), Z)).T\n",
    "    betas[i] = np.linalg.lstsq(A, V)[0]\n",
    "    lambd = np.where(uD(paths[i]) >= betas[i, 0]+betas[i, 1]*Z, lambdamax, lambdamin)\n",
    "\n",
    "\n",
    "# independent simulation to obtain a lower bound\n",
    "npaths = 100000\n",
    "paths = blackscholes_mc(S=S, vol=vol, r=0, q=0, ts=ts, npaths=npaths)\n",
    "V = umat(paths[-1])\n",
    "lambd = np.where(uD(paths[-1]) >= V, lambdamax, lambdamin)\n",
    "K = 0.5*(Kmat+KD)\n",
    "for i in range(len(ts)-2, -1, -1):\n",
    "    dt = ts[i+1]-ts[i]\n",
    "    p = 1-np.exp(-lambd*dt)\n",
    "    V = p*uD(paths[i+1]) + (1-p)*V - alpha*dt\n",
    "    Z = blackscholes_price(K, ts[-1]-ts[i], paths[i], vol, callput='put')\n",
    "    lambd = np.where(uD(paths[i]) >= betas[i, 0]+betas[i, 1]*Z, lambdamax, lambdamin)\n",
    "np.mean(V)"
   ]
  },
  {
   "cell_type": "markdown",
   "metadata": {},
   "source": [
    "<b>Questions 3(a) Answer</b>\n",
    "<ul>\n",
    "<li>Modifying the Longstaff-Schwartz algorithm by using piecewise-linear regression, the price in modified algorithm is slightly larger than the original price\n",
    "</ul>"
   ]
  },
  {
   "cell_type": "code",
   "execution_count": 29,
   "metadata": {},
   "outputs": [
    {
     "data": {
      "text/plain": [
       "3.2418119975076314"
      ]
     },
     "execution_count": 29,
     "metadata": {},
     "output_type": "execute_result"
    }
   ],
   "source": [
    "# Longstaff-Schwartz algorithm for Uncertain Mortality Rate Model using piece-wise linear fit\n",
    "# first Monte Carlo run to estimate the value function by regressions\n",
    "npaths = 5000\n",
    "paths = blackscholes_mc(S=S, vol=vol, r=0, q=0, ts=ts, npaths=npaths)\n",
    "V = umat(paths[-1])\n",
    "lambd = np.where(uD(paths[-1]) >= V, lambdamax, lambdamin)\n",
    "coef = np.zeros((len(ts), 10), dtype=np.float)\n",
    "for i in range(len(ts)-2, 0, -1):\n",
    "    dt = ts[i+1]-ts[i]\n",
    "    p = 1-np.exp(-lambd*dt)\n",
    "    V = p*uD(paths[i+1]) + (1-p)*V - alpha*dt\n",
    "    knots = np.linspace(np.percentile(paths[i],1), np.percentile(paths[i],99), 10)\n",
    "    coef[i] = piecewiselinear_fit(paths[i], V, knots)   # coefficients of piecewise-linear function\n",
    "    fpl = interp1d(knots, coef[i], kind='linear', bounds_error=False, fill_value=(coef[i,0], coef[i,-1]))(paths[i]) # conditional expectation\n",
    "    lambd = np.where(uD(paths[i]) >= fpl, lambdamax, lambdamin)\n",
    "\n",
    "# independent simulation to obtain a lower bound\n",
    "npaths = 100000\n",
    "paths = blackscholes_mc(S=S, vol=vol, r=0, q=0, ts=ts, npaths=npaths)\n",
    "V = umat(paths[-1])\n",
    "lambd = np.where(uD(paths[-1]) >= V, lambdamax, lambdamin)\n",
    "for i in range(len(ts)-2, -1, -1):\n",
    "    dt = ts[i+1]-ts[i]\n",
    "    p = 1-np.exp(-lambd*dt)\n",
    "    V = p*uD(paths[i+1]) + (1-p)*V - alpha*dt\n",
    "    knots = np.linspace(np.percentile(paths[i],1), np.percentile(paths[i],99), 10)\n",
    "    fpl = interp1d(knots, coef[i], kind='linear', bounds_error=False, fill_value=(coef[i,0], coef[i,-1]))(paths[i]) # conditional expectation\n",
    "    lambd = np.where(uD(paths[i]) >= fpl, lambdamax, lambdamin)\n",
    "np.mean(V)"
   ]
  },
  {
   "cell_type": "markdown",
   "metadata": {},
   "source": [
    "<b>Questions 3(b) Answer</b>\n",
    "<ul>\n",
    "<li>We use piecewise-linear regression to estimate conditional expectation in both methods and run both methods 50 times</li>\n",
    "<li>The variance of prices in the BSDE scheme is significantly greater than the variance of prices in the Longstaff-Schwartz scheme\n",
    "</ul>"
   ]
  },
  {
   "cell_type": "code",
   "execution_count": 30,
   "metadata": {
    "collapsed": true
   },
   "outputs": [],
   "source": [
    "# Longstaff-Schwartz algorithm for Uncertain Mortality Rate Model using piece-wise linear fit\n",
    "def LS(S, vol, ts, alpha, npaths1, npaths2, lambdamax, lambdamin, Kmat, KD):\n",
    "    paths = blackscholes_mc(S=S, vol=vol, r=0, q=0, ts=ts, npaths=npaths1)\n",
    "    V = umat(paths[-1])\n",
    "    lambd = np.where(uD(paths[-1]) >= V, lambdamax, lambdamin)\n",
    "    coef = np.zeros((len(ts), 10), dtype=np.float)\n",
    "    for i in range(len(ts)-2, 0, -1):\n",
    "        dt = ts[i+1]-ts[i]\n",
    "        p = 1-np.exp(-lambd*dt)\n",
    "        V = p*uD(paths[i+1]) + (1-p)*V - alpha*dt\n",
    "        knots = np.linspace(np.percentile(paths[i],1), np.percentile(paths[i],99), 10)\n",
    "        coef[i] = piecewiselinear_fit(paths[i], V, knots)   # coefficients of piecewise-linear function\n",
    "        fpl = interp1d(knots, coef[i], kind='linear', bounds_error=False, fill_value=(coef[i,0], coef[i,-1]))(paths[i]) # conditional expectation\n",
    "        lambd = np.where(uD(paths[i]) >= fpl, lambdamax, lambdamin)\n",
    "\n",
    "    # independent simulation to obtain a lower bound\n",
    "    paths = blackscholes_mc(S=S, vol=vol, r=0, q=0, ts=ts, npaths=npaths2)\n",
    "    V = umat(paths[-1])\n",
    "    lambd = np.where(uD(paths[-1]) >= V, lambdamax, lambdamin)\n",
    "    for i in range(len(ts)-2, -1, -1):\n",
    "        dt = ts[i+1]-ts[i]\n",
    "        p = 1-np.exp(-lambd*dt)\n",
    "        V = p*uD(paths[i+1]) + (1-p)*V - alpha*dt\n",
    "        knots = np.linspace(np.percentile(paths[i],1), np.percentile(paths[i],99), 10)\n",
    "        fpl = interp1d(knots, coef[i], kind='linear', bounds_error=False, fill_value=(coef[i,0], coef[i,-1]))(paths[i]) # conditional expectation\n",
    "        lambd = np.where(uD(paths[i]) >= fpl, lambdamax, lambdamin)\n",
    "    return np.mean(V)\n",
    "\n",
    "# BSDE for Uncertain Mortality Rate Model using piece-wise linear fit\n",
    "def BSDE(S, vol, ts, alpha, npaths1, npaths2, lambdamax, lambdamin, Kmat, KD):\n",
    "    paths = blackscholes_mc(S=S, vol=vol, r=0, q=0, ts=ts, npaths=npaths1)\n",
    "    V = np.maximum(Kmat - paths[-1], 0)\n",
    "    coef = np.zeros((len(ts), 10), dtype=np.float)\n",
    "    for i in range(len(ts)-2, 0, -1):\n",
    "        dt = ts[i+1] - ts[i]\n",
    "        knots = np.linspace(np.percentile(paths[i],1), np.percentile(paths[i],99), 10)\n",
    "        coef[i] = piecewiselinear_fit(paths[i], V, knots)   # coefficients of piecewise-linear function\n",
    "        fpl = interp1d(knots, coef[i], kind='linear', bounds_error=False, fill_value=(coef[i,0], coef[i,-1]))(paths[i]) # conditional expectation\n",
    "        lambd = np.where(np.maximum(KD-paths[i],0) >= fpl-alpha*dt, lambdamax, lambdamin)\n",
    "        V = (fpl - alpha*dt + lambd*dt*np.maximum(KD-paths[i], 0))/(1+lambd*dt)  \n",
    "    \n",
    "    # independent simulation to obtain a lower bound\n",
    "    paths = blackscholes_mc(S=S, vol=vol, r=0, q=0, ts=ts, npaths=npaths2)\n",
    "    V = np.maximum(Kmat - paths[-1], 0)\n",
    "    for i in range(len(ts)-2, 0, -1):\n",
    "        dt = ts[i+1] - ts[i]\n",
    "        knots = np.linspace(np.percentile(paths[i],1), np.percentile(paths[i],99), 10)\n",
    "        fpl = interp1d(knots, coef[i], kind='linear', bounds_error=False, fill_value=(coef[i,0], coef[i,-1]))(paths[i]) # conditional expectation\n",
    "        lambd = np.where(np.maximum(KD-paths[i],0) >= fpl-alpha*dt, lambdamax, lambdamin)\n",
    "        V = (fpl - alpha*dt + lambd*dt*np.maximum(KD-paths[i], 0))/(1+lambd*dt)\n",
    "    return np.mean(V)   "
   ]
  },
  {
   "cell_type": "code",
   "execution_count": 31,
   "metadata": {},
   "outputs": [
    {
     "name": "stdout",
     "output_type": "stream",
     "text": [
      "The variance of contract value using Longstaff Schwartz alogrithm:  0.0101151881321\n",
      "The variance of contract value using BSDE scheme:  0.16408103776\n"
     ]
    }
   ],
   "source": [
    "# Compare two schemes for Uncertain Mortality Model using piece-wise linear fit\n",
    "S = 100\n",
    "vol = 0.3\n",
    "T = 10\n",
    "ts = np.linspace(0, T, int(np.round(T*12))+1)\n",
    "alpha = 3\n",
    "lambdamin = 0.005\n",
    "lambdamax = 0.04\n",
    "Kmat = 90.0\n",
    "KD = 100.0\n",
    "npaths1 = 5000\n",
    "npaths2 = 100000\n",
    "ntrials = 50  # number of times to run both methods\n",
    "\n",
    "V1 = []\n",
    "V2 = []\n",
    "for i in range(ntrials):\n",
    "    V1.append(LS(S, vol, ts, alpha, npaths1, npaths2, lambdamax, lambdamin, Kmat, KD))\n",
    "    V2.append(BSDE(S, vol, ts, alpha, npaths1, npaths2, lambdamax, lambdamin, Kmat, KD))\n",
    "\n",
    "std1 = np.std(np.array(V1))\n",
    "std2 = np.std(np.array(V2))\n",
    "print ('The variance of contract value using Longstaff Schwartz alogrithm: ', std1**2)\n",
    "print ('The variance of contract value using BSDE scheme: ', std2**2)"
   ]
  },
  {
   "cell_type": "markdown",
   "metadata": {},
   "source": [
    "<b>Questions 3(c) Answer</b>\n",
    "<ul>\n",
    "<li>When the fee $\\alpha$ is around 3.4, the price of the contract is costless at inception.\n",
    "</ul>"
   ]
  },
  {
   "cell_type": "code",
   "execution_count": 32,
   "metadata": {},
   "outputs": [
    {
     "data": {
      "text/plain": [
       "-0.19284907933490389"
      ]
     },
     "execution_count": 32,
     "metadata": {},
     "output_type": "execute_result"
    }
   ],
   "source": [
    "S = 100\n",
    "vol = 0.3\n",
    "ts = np.linspace(0, T, int(np.round(T*12))+1)\n",
    "npaths = 10000\n",
    "lambdamax = 0.04\n",
    "lambdamin = 0.005\n",
    "Kmat = 90.0\n",
    "KD = 100.0\n",
    "\n",
    "def LS(alpha):\n",
    "    paths = blackscholes_mc(S=S, vol=vol, r=0, q=0, ts=ts, npaths=npaths)\n",
    "    V = umat(paths[-1])\n",
    "    lambd = np.where(uD(paths[-1]) >= V, lambdamax, lambdamin)\n",
    "    for i in range(len(ts)-2, 0, -1):\n",
    "        dt = ts[i+1]-ts[i]\n",
    "        p = 1-np.exp(-lambd*dt)\n",
    "        V = p*uD(paths[i+1]) + (1-p)*V - alpha*dt\n",
    "        knots = np.linspace(np.percentile(paths[i],1), np.percentile(paths[i],99), 10)\n",
    "        coef[i] = piecewiselinear_fit(paths[i], V, knots)   # coefficients of piecewise-linear function\n",
    "        fpl = interp1d(knots, coef[i], kind='linear', bounds_error=False, fill_value=(coef[i,0], coef[i,-1]))(paths[i]) # conditional expectation\n",
    "        lambd = np.where(uD(paths[i]) >= fpl, lambdamax, lambdamin)\n",
    "    return np.mean(V)\n",
    "\n",
    "# find the value of alpha that makes the price equal to zero\n",
    "res = fsolve(LS, 3.4)\n",
    "LS(res)"
   ]
  },
  {
   "cell_type": "markdown",
   "metadata": {
    "collapsed": true
   },
   "source": [
    "<b style=\"color:darkorange\">Question 4.</b> Set $K_D=0$, and all the other parameters remain the same, in particualr $\\alpha=3$. Then the default event is equivalent to lapse (with no mortality payoff). It has been observed that insurance subscribers do not lapse optimally, which explains the use of the uncertain lapse model with minimum and maximum lapse rates $\\underline{\\lambda}$, $\\overline{\\lambda}$. \n",
    "\n",
    "<b>(a).</b> If insurance subscribers were to lapse optimally, i.e., exercise optimally their option to lapse, how would you price the contract?\n",
    "\n",
    "<b>(b).</b> Explain how you can get this price (from optimal exercise) in the uncertain lapse model. Reuse the code provided in Question 3 to show your result (you may have to change some parameters in the code).\n",
    "\n",
    "<b>(c).</b> Implement Longstaff-Schwartz algorithm to price the American option with payoff $u^D=0$ (Always perform a second indepedent run to get a clean lower bound price). Compare the price from uncertain lapse model in part (b) with the American price."
   ]
  },
  {
   "cell_type": "markdown",
   "metadata": {
    "collapsed": true
   },
   "source": [
    "<b>Questions 4(a) Answer</b>\n",
    "<ul>\n",
    "<li>If the insurance subscribers were to laspse optimally, the contract is actually an American option. The subsribers would lapse as soon as $u^L >= u$, we can use Longstaff-Schwartz or TVR algorithm to price the contract. \n",
    "</ul>"
   ]
  },
  {
   "cell_type": "markdown",
   "metadata": {},
   "source": [
    "<b>Questions 4(b) Answer</b>\n",
    "<ul>\n",
    "<li>In the uncertain lapse model, the subsrciber may not lapse optimally, so we just price the contract as what we do in the uncertain mortality model: first estimate the conditional expectation and then run independent simulation to obtain a clean lower bound price.</li>\n",
    "<li>We assume that the minimum and maximum lapse rates $\\underline{\\lambda}$, $\\overline{\\lambda}$ are 0.04 and 0.005 respecctively.\n",
    "</ul>"
   ]
  },
  {
   "cell_type": "code",
   "execution_count": 33,
   "metadata": {},
   "outputs": [
    {
     "data": {
      "text/plain": [
       "-0.74882760755191058"
      ]
     },
     "execution_count": 33,
     "metadata": {},
     "output_type": "execute_result"
    }
   ],
   "source": [
    "# Longstaff-Schwartz algorithm for Uncertain Lapse Model\n",
    "S = 100\n",
    "vol = 0.3\n",
    "T = 10\n",
    "ts = np.linspace(0, T, int(np.round(T*12))+1)\n",
    "alpha = 3\n",
    "lambdamin = 0.005\n",
    "lambdamax = 0.04\n",
    "Kmat = 90.0\n",
    "\n",
    "def umat(x):\n",
    "    return np.maximum(Kmat - x, 0)\n",
    "\n",
    "# first Monte Carlo run to estimate the value function by regressions\n",
    "npaths = 5000\n",
    "paths = blackscholes_mc(S=S, vol=vol, r=0, q=0, ts=ts, npaths=npaths)\n",
    "betas = np.zeros((len(ts), 2), dtype=np.float)\n",
    "V = umat(paths[-1])\n",
    "lambd = lambdamin\n",
    "K = 0.5*Kmat\n",
    "for i in range(len(ts)-2, 0, -1):\n",
    "    dt = ts[i+1]-ts[i]\n",
    "    p = 1-np.exp(-lambd*dt)\n",
    "    V = (1-p)*V - alpha*dt\n",
    "    Z = blackscholes_price(K, ts[-1]-ts[i], paths[i], vol, callput='put')\n",
    "    A = np.vstack((np.ones_like(Z), Z)).T\n",
    "    betas[i] = np.linalg.lstsq(A, V)[0]\n",
    "    lambd = np.where(betas[i, 0]+betas[i, 1]*Z <= 0, lambdamax, lambdamin)\n",
    "\n",
    "# independent simulation to obtain a lower bound\n",
    "npaths = 100000\n",
    "paths = blackscholes_mc(S=S, vol=vol, r=0, q=0, ts=ts, npaths=npaths)\n",
    "V = umat(paths[-1])\n",
    "lambd = lambdamin\n",
    "K = 0.5*(Kmat+KD)\n",
    "for i in range(len(ts)-2, -1, -1):\n",
    "    dt = ts[i+1]-ts[i]\n",
    "    p = 1-np.exp(-lambd*dt)\n",
    "    V = (1-p)*V - alpha*dt\n",
    "    Z = blackscholes_price(K, ts[-1]-ts[i], paths[i], vol, callput='put')\n",
    "    lambd = np.where(betas[i, 0]+betas[i, 1]*Z <= 0, lambdamax, lambdamin)\n",
    "np.mean(V)"
   ]
  },
  {
   "cell_type": "markdown",
   "metadata": {},
   "source": [
    "<b>Questions 4(c) Answer</b>\n",
    "<ul>\n",
    "<li>The American option price is actually the price of the contract in which the subsrciber lapse optimally, thus the price of the contract is larger than that in the uncertain lapse model where the subscriber do not lapse optimally. Upon that fact, the contract price in the uncertain lapse model may be negative and the optimal lapse price is nonnegative for sure.\n",
    "</ul>"
   ]
  },
  {
   "cell_type": "code",
   "execution_count": 34,
   "metadata": {},
   "outputs": [
    {
     "data": {
      "text/plain": [
       "1.1854353740476224"
      ]
     },
     "execution_count": 34,
     "metadata": {},
     "output_type": "execute_result"
    }
   ],
   "source": [
    "# first Monte Carlo run to estimate the value function by regressions\n",
    "npaths = 10000\n",
    "paths = blackscholes_mc(S=S, vol=vol, r=0, q=0, ts=ts, npaths=npaths)\n",
    "betas = np.zeros((len(ts), 2), dtype=np.float)\n",
    "V = umat(paths[-1])\n",
    "lambd = 0.5*(lambdamin + lambdamax)\n",
    "K = 0.5*Kmat\n",
    "for i in range(len(ts)-2, 0, -1):\n",
    "    dt = ts[i+1]-ts[i]\n",
    "    p = np.exp(-lambd*dt)\n",
    "    V = p*V - alpha*dt\n",
    "    Z = blackscholes_price(K, ts[-1]-ts[i], paths[i], vol, callput='put')\n",
    "    A = np.vstack((np.ones_like(Z), Z)).T\n",
    "    betas[i] = np.linalg.lstsq(A, V)[0]\n",
    "    contval = betas[i, 0]+betas[i, 1]*Z\n",
    "    V = np.where(contval < 0, 0, V)  # lapse when the payoff is negative\n",
    "\n",
    "npaths = 100000\n",
    "paths = blackscholes_mc(S=S, vol=vol, r=0, q=0, ts=ts, npaths=npaths)\n",
    "V = umat(paths[-1])\n",
    "lambd = 0.5*(lambdamin + lambdamax)\n",
    "K = 0.5*Kmat\n",
    "for i in range(len(ts)-2, 0, -1):\n",
    "    dt = ts[i+1]-ts[i]\n",
    "    p = np.exp(-lambd*dt)\n",
    "    V = p*V - alpha*dt\n",
    "    Z = blackscholes_price(K, ts[-1]-ts[i], paths[i], vol, callput='put')\n",
    "    contval = betas[i, 0]+betas[i, 1]*Z\n",
    "    V = np.where(contval < 0, 0, V)  # lapse when the payoff is negative\n",
    "np.mean(V)"
   ]
  }
 ],
 "metadata": {
  "anaconda-cloud": {},
  "kernelspec": {
   "display_name": "Python 3",
   "language": "python",
   "name": "python3"
  },
  "language_info": {
   "codemirror_mode": {
    "name": "ipython",
    "version": 3
   },
   "file_extension": ".py",
   "mimetype": "text/x-python",
   "name": "python",
   "nbconvert_exporter": "python",
   "pygments_lexer": "ipython3",
   "version": "3.6.3"
  },
  "name": "Uncertain Mortality.ipynb"
 },
 "nbformat": 4,
 "nbformat_minor": 1
}
